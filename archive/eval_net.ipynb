{
 "metadata": {
  "language_info": {
   "codemirror_mode": {
    "name": "ipython",
    "version": 3
   },
   "file_extension": ".py",
   "mimetype": "text/x-python",
   "name": "python",
   "nbconvert_exporter": "python",
   "pygments_lexer": "ipython3",
   "version": "3.6.12-final"
  },
  "orig_nbformat": 2,
  "kernelspec": {
   "name": "python3",
   "display_name": "Python 3.6.12 64-bit ('caoe': conda)",
   "metadata": {
    "interpreter": {
     "hash": "98715d3a1d85964ac04c7e69530e2b38c02e61e3514f6ba664370fa1d0f228d9"
    }
   }
  }
 },
 "nbformat": 4,
 "nbformat_minor": 2,
 "cells": [
  {
   "cell_type": "code",
   "execution_count": 1,
   "metadata": {},
   "outputs": [],
   "source": [
    "from sklearn import preprocessing\n",
    "import matplotlib.pyplot as plt\n",
    "from copy import deepcopy\n",
    "import pandas as pd\n",
    "import numpy as np\n",
    "import importlib\n",
    "import sklearn\n",
    "import random\n",
    "import pickle\n",
    "import torch\n",
    "import math\n",
    "\n",
    "import socialSig\n",
    "importlib.reload(socialSig)\n",
    "from helpers import *"
   ]
  },
  {
   "cell_type": "code",
   "execution_count": 79,
   "metadata": {},
   "outputs": [],
   "source": [
    "####### Load our Data\n",
    "#y - 'number_moved'\n",
    "#x - 'everything else that is or can be represented as a float.'\n",
    "devSet = pd.read_csv(\"./us_migration.csv\")\n",
    "devSet = devSet.loc[:, ~devSet.columns.str.contains('^Unnamed')]\n",
    "devSet = devSet.apply(lambda x: pd.to_numeric(x, errors='coerce'))\n",
    "devSet = devSet.dropna(axis=1)\n",
    "devSet = devSet.drop(['sending'], axis = 1)\n",
    "\n",
    "y = torch.Tensor(devSet['US_MIG_05_10'].values)\n",
    "X = devSet.loc[:, devSet.columns != \"US_MIG_05_10\"].values\n",
    "\n",
    "mMScale = preprocessing.MinMaxScaler()\n",
    "X = mMScale.fit_transform(X)"
   ]
  },
  {
   "cell_type": "code",
   "execution_count": 80,
   "metadata": {},
   "outputs": [],
   "source": [
    "model = socialSig.SocialSigNet(X=X, outDim = 1)\n"
   ]
  },
  {
   "cell_type": "code",
   "execution_count": 81,
   "metadata": {},
   "outputs": [
    {
     "output_type": "execute_result",
     "data": {
      "text/plain": [
       "<All keys matched successfully>"
      ]
     },
     "metadata": {},
     "execution_count": 81
    }
   ],
   "source": [
    "checkpoint = torch.load(\"./trained_weights_nosending4.torch\")\n",
    "model.load_state_dict(checkpoint['model_state_dict'])"
   ]
  },
  {
   "cell_type": "code",
   "execution_count": 43,
   "metadata": {},
   "outputs": [
    {
     "output_type": "execute_result",
     "data": {
      "text/plain": [
       "      sending  sending_citizen_unspecified  sending_citizenship_unknown  \\\n",
       "0       10001                  1134.995083                   243.827586   \n",
       "1       10002                   917.067746                   600.000000   \n",
       "2       10003                   637.977315                   557.150000   \n",
       "3       10004                  1178.378744                  1678.562500   \n",
       "4       10005                  2231.128863                  2916.538705   \n",
       "...       ...                          ...                          ...   \n",
       "2317     9002                  2405.699630                  1748.869065   \n",
       "2318     9003                  3858.707011                  1231.109956   \n",
       "2319     9004                  1927.404919                   784.350000   \n",
       "2320     9005                  2289.519646                  1626.816777   \n",
       "2321     9006                  3458.809380                  3352.739386   \n",
       "\n",
       "      sending_household_not_owned  sending_household_owned  \\\n",
       "0                     1178.209016              1106.832815   \n",
       "1                     1274.160656               795.118020   \n",
       "2                      729.454795               610.791414   \n",
       "3                     1560.244328              1084.109969   \n",
       "4                     2104.943216              2278.834178   \n",
       "...                           ...                      ...   \n",
       "2317                  2219.106684              2552.982875   \n",
       "2318                  2915.200938              4484.619480   \n",
       "2319                  1570.619453              2037.162477   \n",
       "2320                  2062.935985              2430.503155   \n",
       "2321                  3139.841616              3656.532923   \n",
       "\n",
       "      sending_household_owned_unknown  sending_indigeneity  sending_internet  \\\n",
       "0                          736.562500           918.960526       2111.233685   \n",
       "1                           -1.000000            -1.000000       1988.103175   \n",
       "2                          468.392857           584.454545       1310.462428   \n",
       "3                          785.742857          1165.943463       2109.431851   \n",
       "4                         2353.519005          2527.268790       3075.771459   \n",
       "...                               ...                  ...               ...   \n",
       "2317                      1890.022296          2330.599992       3055.875149   \n",
       "2318                      5818.942935          2810.099863       5217.779456   \n",
       "2319                      3061.779412          1854.212578       2597.090254   \n",
       "2320                      2294.108333          2340.950516       2822.150244   \n",
       "2321                      3443.737129          3007.797381       4534.722559   \n",
       "\n",
       "      sending_internet_unknown  sending_marriage_unknown  ...  \\\n",
       "0                   347.698113                576.362069  ...   \n",
       "1                   459.166667                342.800000  ...   \n",
       "2                   514.312500               3800.000000  ...   \n",
       "3                  1043.500000                549.695652  ...   \n",
       "4                  1941.578834                650.206897  ...   \n",
       "...                        ...                       ...  ...   \n",
       "2317               1689.971097               1135.496873  ...   \n",
       "2318               2357.150198                214.283803  ...   \n",
       "2319               1346.494048                283.783784  ...   \n",
       "2320                139.097744                667.244318  ...   \n",
       "2321               3013.045961                776.659372  ...   \n",
       "\n",
       "      sending_total_pop  sending_unknown_employment_status  \\\n",
       "0                 59606                        1218.357143   \n",
       "1                  4750                         535.750000   \n",
       "2                  4420                         540.000000   \n",
       "3                 35742                         771.400000   \n",
       "4                657314                        1531.622086   \n",
       "...                 ...                                ...   \n",
       "2317            2242270                        2519.015098   \n",
       "2318             241966                        3975.823333   \n",
       "2319             140362                        1364.578313   \n",
       "2320             360724                        2594.140756   \n",
       "2321             679698                        2900.560406   \n",
       "\n",
       "      sending_unknown_indigeneity  sending_unpaid_worker  sending_urban  \\\n",
       "0                      840.339623                      0    1597.239059   \n",
       "1                      576.379310                      0      -1.000000   \n",
       "2                      629.215385                      0      -1.000000   \n",
       "3                      694.579439                      0    1436.934837   \n",
       "4                     2064.311411                      0    2319.113608   \n",
       "...                           ...                    ...            ...   \n",
       "2317                  2299.741654                      0    2406.749527   \n",
       "2318                  2876.307321                      0    3855.573265   \n",
       "2319                  2710.145782                      0    1906.936589   \n",
       "2320                  2834.652051                      0    2294.638487   \n",
       "2321                  2744.083672                      0    3489.565284   \n",
       "\n",
       "      sending_weighted_avg_income  sending_weighted_avg_income_abroad  \\\n",
       "0                     1124.200953                          768.788518   \n",
       "1                      908.782316                          720.767123   \n",
       "2                      628.585520                          486.116034   \n",
       "3                     1173.751889                          861.385645   \n",
       "4                     2230.022635                         1672.340116   \n",
       "...                           ...                                 ...   \n",
       "2317                  2404.611760                         2001.012098   \n",
       "2318                  3849.228718                         3068.219990   \n",
       "2319                  1925.807227                         2464.181193   \n",
       "2320                  2286.092043                         2303.242828   \n",
       "2321                  3469.562712                         3603.206360   \n",
       "\n",
       "      sending_weighted_avg_no_income_abroad  \\\n",
       "0                               1213.505104   \n",
       "1                                929.317603   \n",
       "2                                738.533015   \n",
       "3                               1219.547797   \n",
       "4                               2273.630651   \n",
       "...                                     ...   \n",
       "2317                            2415.147145   \n",
       "2318                            3900.477908   \n",
       "2319                            1922.865676   \n",
       "2320                            2289.790755   \n",
       "2321                            3468.347558   \n",
       "\n",
       "      sending_weighted_avg_unknown_income_abroad  sending_widowed  \n",
       "0                                    1931.825000       460.430041  \n",
       "1                                     845.567568       745.377359  \n",
       "2                                      -1.000000       276.569767  \n",
       "3                                    1643.137255       741.363985  \n",
       "4                                    3946.180995      1241.236982  \n",
       "...                                          ...              ...  \n",
       "2317                                 2104.591252      1416.154574  \n",
       "2318                                 1393.715692      2411.162593  \n",
       "2319                                  594.935000      1399.683105  \n",
       "2320                                 1463.121810      1253.617190  \n",
       "2321                                 3259.567938      1582.391552  \n",
       "\n",
       "[2322 rows x 30 columns]"
      ],
      "text/html": "<div>\n<style scoped>\n    .dataframe tbody tr th:only-of-type {\n        vertical-align: middle;\n    }\n\n    .dataframe tbody tr th {\n        vertical-align: top;\n    }\n\n    .dataframe thead th {\n        text-align: right;\n    }\n</style>\n<table border=\"1\" class=\"dataframe\">\n  <thead>\n    <tr style=\"text-align: right;\">\n      <th></th>\n      <th>sending</th>\n      <th>sending_citizen_unspecified</th>\n      <th>sending_citizenship_unknown</th>\n      <th>sending_household_not_owned</th>\n      <th>sending_household_owned</th>\n      <th>sending_household_owned_unknown</th>\n      <th>sending_indigeneity</th>\n      <th>sending_internet</th>\n      <th>sending_internet_unknown</th>\n      <th>sending_marriage_unknown</th>\n      <th>...</th>\n      <th>sending_total_pop</th>\n      <th>sending_unknown_employment_status</th>\n      <th>sending_unknown_indigeneity</th>\n      <th>sending_unpaid_worker</th>\n      <th>sending_urban</th>\n      <th>sending_weighted_avg_income</th>\n      <th>sending_weighted_avg_income_abroad</th>\n      <th>sending_weighted_avg_no_income_abroad</th>\n      <th>sending_weighted_avg_unknown_income_abroad</th>\n      <th>sending_widowed</th>\n    </tr>\n  </thead>\n  <tbody>\n    <tr>\n      <th>0</th>\n      <td>10001</td>\n      <td>1134.995083</td>\n      <td>243.827586</td>\n      <td>1178.209016</td>\n      <td>1106.832815</td>\n      <td>736.562500</td>\n      <td>918.960526</td>\n      <td>2111.233685</td>\n      <td>347.698113</td>\n      <td>576.362069</td>\n      <td>...</td>\n      <td>59606</td>\n      <td>1218.357143</td>\n      <td>840.339623</td>\n      <td>0</td>\n      <td>1597.239059</td>\n      <td>1124.200953</td>\n      <td>768.788518</td>\n      <td>1213.505104</td>\n      <td>1931.825000</td>\n      <td>460.430041</td>\n    </tr>\n    <tr>\n      <th>1</th>\n      <td>10002</td>\n      <td>917.067746</td>\n      <td>600.000000</td>\n      <td>1274.160656</td>\n      <td>795.118020</td>\n      <td>-1.000000</td>\n      <td>-1.000000</td>\n      <td>1988.103175</td>\n      <td>459.166667</td>\n      <td>342.800000</td>\n      <td>...</td>\n      <td>4750</td>\n      <td>535.750000</td>\n      <td>576.379310</td>\n      <td>0</td>\n      <td>-1.000000</td>\n      <td>908.782316</td>\n      <td>720.767123</td>\n      <td>929.317603</td>\n      <td>845.567568</td>\n      <td>745.377359</td>\n    </tr>\n    <tr>\n      <th>2</th>\n      <td>10003</td>\n      <td>637.977315</td>\n      <td>557.150000</td>\n      <td>729.454795</td>\n      <td>610.791414</td>\n      <td>468.392857</td>\n      <td>584.454545</td>\n      <td>1310.462428</td>\n      <td>514.312500</td>\n      <td>3800.000000</td>\n      <td>...</td>\n      <td>4420</td>\n      <td>540.000000</td>\n      <td>629.215385</td>\n      <td>0</td>\n      <td>-1.000000</td>\n      <td>628.585520</td>\n      <td>486.116034</td>\n      <td>738.533015</td>\n      <td>-1.000000</td>\n      <td>276.569767</td>\n    </tr>\n    <tr>\n      <th>3</th>\n      <td>10004</td>\n      <td>1178.378744</td>\n      <td>1678.562500</td>\n      <td>1560.244328</td>\n      <td>1084.109969</td>\n      <td>785.742857</td>\n      <td>1165.943463</td>\n      <td>2109.431851</td>\n      <td>1043.500000</td>\n      <td>549.695652</td>\n      <td>...</td>\n      <td>35742</td>\n      <td>771.400000</td>\n      <td>694.579439</td>\n      <td>0</td>\n      <td>1436.934837</td>\n      <td>1173.751889</td>\n      <td>861.385645</td>\n      <td>1219.547797</td>\n      <td>1643.137255</td>\n      <td>741.363985</td>\n    </tr>\n    <tr>\n      <th>4</th>\n      <td>10005</td>\n      <td>2231.128863</td>\n      <td>2916.538705</td>\n      <td>2104.943216</td>\n      <td>2278.834178</td>\n      <td>2353.519005</td>\n      <td>2527.268790</td>\n      <td>3075.771459</td>\n      <td>1941.578834</td>\n      <td>650.206897</td>\n      <td>...</td>\n      <td>657314</td>\n      <td>1531.622086</td>\n      <td>2064.311411</td>\n      <td>0</td>\n      <td>2319.113608</td>\n      <td>2230.022635</td>\n      <td>1672.340116</td>\n      <td>2273.630651</td>\n      <td>3946.180995</td>\n      <td>1241.236982</td>\n    </tr>\n    <tr>\n      <th>...</th>\n      <td>...</td>\n      <td>...</td>\n      <td>...</td>\n      <td>...</td>\n      <td>...</td>\n      <td>...</td>\n      <td>...</td>\n      <td>...</td>\n      <td>...</td>\n      <td>...</td>\n      <td>...</td>\n      <td>...</td>\n      <td>...</td>\n      <td>...</td>\n      <td>...</td>\n      <td>...</td>\n      <td>...</td>\n      <td>...</td>\n      <td>...</td>\n      <td>...</td>\n      <td>...</td>\n    </tr>\n    <tr>\n      <th>2317</th>\n      <td>9002</td>\n      <td>2405.699630</td>\n      <td>1748.869065</td>\n      <td>2219.106684</td>\n      <td>2552.982875</td>\n      <td>1890.022296</td>\n      <td>2330.599992</td>\n      <td>3055.875149</td>\n      <td>1689.971097</td>\n      <td>1135.496873</td>\n      <td>...</td>\n      <td>2242270</td>\n      <td>2519.015098</td>\n      <td>2299.741654</td>\n      <td>0</td>\n      <td>2406.749527</td>\n      <td>2404.611760</td>\n      <td>2001.012098</td>\n      <td>2415.147145</td>\n      <td>2104.591252</td>\n      <td>1416.154574</td>\n    </tr>\n    <tr>\n      <th>2318</th>\n      <td>9003</td>\n      <td>3858.707011</td>\n      <td>1231.109956</td>\n      <td>2915.200938</td>\n      <td>4484.619480</td>\n      <td>5818.942935</td>\n      <td>2810.099863</td>\n      <td>5217.779456</td>\n      <td>2357.150198</td>\n      <td>214.283803</td>\n      <td>...</td>\n      <td>241966</td>\n      <td>3975.823333</td>\n      <td>2876.307321</td>\n      <td>0</td>\n      <td>3855.573265</td>\n      <td>3849.228718</td>\n      <td>3068.219990</td>\n      <td>3900.477908</td>\n      <td>1393.715692</td>\n      <td>2411.162593</td>\n    </tr>\n    <tr>\n      <th>2319</th>\n      <td>9004</td>\n      <td>1927.404919</td>\n      <td>784.350000</td>\n      <td>1570.619453</td>\n      <td>2037.162477</td>\n      <td>3061.779412</td>\n      <td>1854.212578</td>\n      <td>2597.090254</td>\n      <td>1346.494048</td>\n      <td>283.783784</td>\n      <td>...</td>\n      <td>140362</td>\n      <td>1364.578313</td>\n      <td>2710.145782</td>\n      <td>0</td>\n      <td>1906.936589</td>\n      <td>1925.807227</td>\n      <td>2464.181193</td>\n      <td>1922.865676</td>\n      <td>594.935000</td>\n      <td>1399.683105</td>\n    </tr>\n    <tr>\n      <th>2320</th>\n      <td>9005</td>\n      <td>2289.519646</td>\n      <td>1626.816777</td>\n      <td>2062.935985</td>\n      <td>2430.503155</td>\n      <td>2294.108333</td>\n      <td>2340.950516</td>\n      <td>2822.150244</td>\n      <td>139.097744</td>\n      <td>667.244318</td>\n      <td>...</td>\n      <td>360724</td>\n      <td>2594.140756</td>\n      <td>2834.652051</td>\n      <td>0</td>\n      <td>2294.638487</td>\n      <td>2286.092043</td>\n      <td>2303.242828</td>\n      <td>2289.790755</td>\n      <td>1463.121810</td>\n      <td>1253.617190</td>\n    </tr>\n    <tr>\n      <th>2321</th>\n      <td>9006</td>\n      <td>3458.809380</td>\n      <td>3352.739386</td>\n      <td>3139.841616</td>\n      <td>3656.532923</td>\n      <td>3443.737129</td>\n      <td>3007.797381</td>\n      <td>4534.722559</td>\n      <td>3013.045961</td>\n      <td>776.659372</td>\n      <td>...</td>\n      <td>679698</td>\n      <td>2900.560406</td>\n      <td>2744.083672</td>\n      <td>0</td>\n      <td>3489.565284</td>\n      <td>3469.562712</td>\n      <td>3603.206360</td>\n      <td>3468.347558</td>\n      <td>3259.567938</td>\n      <td>1582.391552</td>\n    </tr>\n  </tbody>\n</table>\n<p>2322 rows × 30 columns</p>\n</div>"
     },
     "metadata": {},
     "execution_count": 43
    }
   ],
   "source": [
    "devSet.loc[:, devSet.columns != \"US_MIG_05_10\"]#.values"
   ]
  },
  {
   "cell_type": "code",
   "execution_count": 39,
   "metadata": {},
   "outputs": [
    {
     "output_type": "execute_result",
     "data": {
      "text/plain": [
       "array([1.00010000e+04, 1.13499508e+03, 2.43827586e+02, 1.17820902e+03,\n",
       "       1.10683281e+03, 7.36562500e+02, 9.18960526e+02, 2.11123369e+03,\n",
       "       3.47698113e+02, 5.76362069e+02, 1.92162072e+03, 1.14339273e+03,\n",
       "       9.51874055e+02, 6.77628459e+01, 7.96264417e+02, 4.33637241e+03,\n",
       "       4.60644907e+03, 1.60599141e+03, 4.48376764e+02, 1.19929500e+07,\n",
       "       5.96060000e+04, 1.21835714e+03, 8.40339623e+02, 0.00000000e+00,\n",
       "       1.59723906e+03, 1.12420095e+03, 7.68788518e+02, 1.21350510e+03,\n",
       "       1.93182500e+03, 4.60430041e+02])"
      ]
     },
     "metadata": {},
     "execution_count": 39
    }
   ],
   "source": [
    "devSet.loc[:, devSet.columns != \"US_MIG_05_10\"].values[0]"
   ]
  },
  {
   "cell_type": "code",
   "execution_count": 29,
   "metadata": {},
   "outputs": [
    {
     "output_type": "execute_result",
     "data": {
      "text/plain": [
       "tensor([2.8984e-01, 1.5086e-01, 1.9041e-02, 1.7205e-01, 1.3949e-01, 1.1063e-02,\n",
       "        8.4842e-02, 9.4775e-02, 1.1623e-02, 5.2897e-02, 1.5080e-01, 1.4954e-01,\n",
       "        1.6302e-01, 4.8031e-04, 1.9931e-02, 2.4111e-01, 9.3632e-02, 1.3808e-01,\n",
       "        1.0626e-01, 1.7575e-02, 1.1287e-02, 8.5349e-02, 3.4749e-02, 1.0000e+00,\n",
       "        9.5889e-02, 1.4799e-01, 8.9803e-02, 1.5732e-01, 1.3144e-01, 9.6607e-02],\n",
       "       dtype=torch.float64)"
      ]
     },
     "metadata": {},
     "execution_count": 29
    }
   ],
   "source": [
    "torch.tensor(X[0])"
   ]
  },
  {
   "cell_type": "code",
   "execution_count": 82,
   "metadata": {},
   "outputs": [
    {
     "output_type": "stream",
     "name": "stderr",
     "text": [
      "/Users/heatherbaier/Desktop/CAOE/sig/socialSig.py:55: UserWarning: To copy construct from a tensor, it is recommended to use sourceTensor.clone().detach() or sourceTensor.clone().detach().requires_grad_(True), rather than torch.tensor(sourceTensor).\n",
      "  taken = torch.take(batchX, construct_noOverlap_indices(torch.tensor(self.W, dtype = torch.float32), batchX.shape[0], self.W.shape[0]))\n",
      "/Users/heatherbaier/anaconda/envs/caoe/lib/python3.6/site-packages/torch/nn/functional.py:3455: UserWarning: Default upsampling behavior when mode=bilinear is changed to align_corners=False since 0.4.0. Please specify align_corners=True if the old behavior is desired. See the documentation of nn.Upsample for details.\n",
      "  \"See the documentation of nn.Upsample for details.\".format(mode)\n",
      "tensor([[281.5979]], grad_fn=<AddmmBackward>)\n",
      "tensor([[282.0308]], grad_fn=<AddmmBackward>)\n",
      "tensor([[279.2398]], grad_fn=<AddmmBackward>)\n",
      "tensor([[281.1828]], grad_fn=<AddmmBackward>)\n",
      "tensor([[266.7348]], grad_fn=<AddmmBackward>)\n"
     ]
    }
   ],
   "source": [
    "for i in range(0, 5):\n",
    "\n",
    "    imput = torch.reshape(torch.tensor(X[i], dtype = torch.float32), (1,1,29))\n",
    "\n",
    "    model.eval()\n",
    "\n",
    "    print(model(imput, 1))"
   ]
  },
  {
   "cell_type": "code",
   "execution_count": 77,
   "metadata": {},
   "outputs": [
    {
     "output_type": "stream",
     "name": "stderr",
     "text": [
      "/Users/heatherbaier/Desktop/CAOE/sig/socialSig.py:55: UserWarning: To copy construct from a tensor, it is recommended to use sourceTensor.clone().detach() or sourceTensor.clone().detach().requires_grad_(True), rather than torch.tensor(sourceTensor).\n  taken = torch.take(batchX, construct_noOverlap_indices(torch.tensor(self.W, dtype = torch.float32), batchX.shape[0], self.W.shape[0]))\n/Users/heatherbaier/anaconda/envs/caoe/lib/python3.6/site-packages/torch/nn/functional.py:3455: UserWarning: Default upsampling behavior when mode=bilinear is changed to align_corners=False since 0.4.0. Please specify align_corners=True if the old behavior is desired. See the documentation of nn.Upsample for details.\n  \"See the documentation of nn.Upsample for details.\".format(mode)\n"
     ]
    },
    {
     "output_type": "execute_result",
     "data": {
      "text/plain": [
       "tensor([[33225.4375]], grad_fn=<AddmmBackward>)"
      ]
     },
     "metadata": {},
     "execution_count": 77
    }
   ],
   "source": [
    "model.eval()\n",
    "\n",
    "model(imput, 1)"
   ]
  },
  {
   "cell_type": "code",
   "execution_count": 67,
   "metadata": {},
   "outputs": [
    {
     "output_type": "stream",
     "name": "stdout",
     "text": [
      "[[3.22037241e+03 1.32803178e-04 7.77725929e-05 1.66623865e-01\n",
      "  2.42612691e-02 2.62448739e-03 1.32942023e-02 7.49160041e-02\n",
      "  2.82476216e-03 1.03540152e-02 3.59565445e-02 1.11115362e-01\n",
      "  3.63955388e-02 1.48865235e-03 5.73360792e-03 2.55398205e-01\n",
      "  5.46895851e-02 3.16195618e-02 1.90831650e-02 2.93081402e-01\n",
      "  7.52444535e-03 6.99953336e-05 4.13023757e-05 1.00000000e+00\n",
      "  5.99964002e-05 1.31523086e-04 5.98497856e-02 2.85712445e-02\n",
      "  1.34727059e-02 1.06247987e-01]]\n",
      "/Users/heatherbaier/Desktop/CAOE/sig/socialSig.py:55: UserWarning: To copy construct from a tensor, it is recommended to use sourceTensor.clone().detach() or sourceTensor.clone().detach().requires_grad_(True), rather than torch.tensor(sourceTensor).\n",
      "  taken = torch.take(batchX, construct_noOverlap_indices(torch.tensor(self.W, dtype = torch.float32), batchX.shape[0], self.W.shape[0]))\n",
      "/Users/heatherbaier/anaconda/envs/caoe/lib/python3.6/site-packages/torch/nn/functional.py:3455: UserWarning: Default upsampling behavior when mode=bilinear is changed to align_corners=False since 0.4.0. Please specify align_corners=True if the old behavior is desired. See the documentation of nn.Upsample for details.\n",
      "  \"See the documentation of nn.Upsample for details.\".format(mode)\n"
     ]
    },
    {
     "output_type": "execute_result",
     "data": {
      "text/plain": [
       "tensor([[64188952.]], grad_fn=<AddmmBackward>)"
      ]
     },
     "metadata": {},
     "execution_count": 67
    }
   ],
   "source": [
    "mig_cur = pd.read_csv(\"./us_migration.csv\")\n",
    "mig_cur = mig_cur.loc[:, ~mig_cur.columns.str.contains('^Unnamed')]\n",
    "mig_cur = mig_cur.apply(lambda x: pd.to_numeric(x, errors='coerce'))\n",
    "mig_cur = mig_cur.dropna(axis=1)\n",
    "mig_cur = mig_cur.drop([\"US_MIG_05_10\"], axis = 1)\n",
    "\n",
    "sending_index = mig_cur.index[mig_cur.sending == 10002]\n",
    "\n",
    "mMScale = preprocessing.MinMaxScaler()\n",
    "mMScale.fit(mig_cur)#.values\n",
    "\n",
    "\n",
    "v = mMScale.transform([[100000005, 0, 0, 1141.005168, 191.67981899999998, 173.9693252, 143.1524397, 1668.6315789999999, 83.74568966, 112.0113636, 457.4188756, 849.3512360999999, 211.7425906, 212.12121209999998, 228.3500503, 4593.414458, 2690.181818, 366.9866667, 79.70120623, 200000000, 39760.0, 0, 0, 0.0, 0, 0, 512.0323625, 219.5713985, 197.11191340000002, 506.4814126]])\n",
    "\n",
    "\n",
    "print(v)\n",
    "\n",
    "\n",
    "imput = torch.reshape(torch.tensor(v, dtype = torch.float32), (1,1,30))\n",
    "\n",
    "model(imput, 1)\n",
    "\n",
    "# print(imput)\n",
    "\n",
    "# mig_cur = mig_cur[mig_cur['sending'] == 1001]\n",
    "# mig_cur = mig_cur.values\n",
    "\n",
    "\n",
    "\n",
    "\n",
    "# imput = torch.reshape(torch.tensor(mig_cur, dtype = torch.float32), (1,1,30))"
   ]
  },
  {
   "cell_type": "code",
   "execution_count": 33,
   "metadata": {},
   "outputs": [
    {
     "output_type": "execute_result",
     "data": {
      "text/plain": [
       "tensor([[[1.0010e+03, 2.6422e+03, 2.5049e+03, 2.4201e+03, 2.7446e+03,\n",
       "          1.7018e+03, 2.5062e+03, 3.8308e+03, 1.6519e+03, 4.7719e+02,\n",
       "          4.4098e+03, 2.6549e+03, 1.8496e+03, 3.1426e+03, 2.0203e+03,\n",
       "          6.3189e+03, 7.1741e+03, 4.1580e+03, 1.1404e+03, 9.1146e+07,\n",
       "          9.4033e+05, 2.3610e+03, 3.1542e+03, 0.0000e+00, 2.7246e+03,\n",
       "          2.6439e+03, 1.9177e+03, 2.6851e+03, 1.7116e+03, 1.5648e+03]]])"
      ]
     },
     "metadata": {},
     "execution_count": 33
    }
   ],
   "source": [
    "imput"
   ]
  },
  {
   "cell_type": "code",
   "execution_count": 34,
   "metadata": {},
   "outputs": [
    {
     "output_type": "stream",
     "name": "stderr",
     "text": [
      "/Users/heatherbaier/Desktop/CAOE/sig/socialSig.py:55: UserWarning: To copy construct from a tensor, it is recommended to use sourceTensor.clone().detach() or sourceTensor.clone().detach().requires_grad_(True), rather than torch.tensor(sourceTensor).\n  taken = torch.take(batchX, construct_noOverlap_indices(torch.tensor(self.W, dtype = torch.float32), batchX.shape[0], self.W.shape[0]))\n/Users/heatherbaier/anaconda/envs/caoe/lib/python3.6/site-packages/torch/nn/functional.py:3455: UserWarning: Default upsampling behavior when mode=bilinear is changed to align_corners=False since 0.4.0. Please specify align_corners=True if the old behavior is desired. See the documentation of nn.Upsample for details.\n  \"See the documentation of nn.Upsample for details.\".format(mode)\n"
     ]
    },
    {
     "output_type": "execute_result",
     "data": {
      "text/plain": [
       "tensor([[19946688.]], grad_fn=<AddmmBackward>)"
      ]
     },
     "metadata": {},
     "execution_count": 34
    }
   ],
   "source": [
    "model(imput, 1)"
   ]
  },
  {
   "cell_type": "code",
   "execution_count": null,
   "metadata": {},
   "outputs": [],
   "source": []
  }
 ]
}