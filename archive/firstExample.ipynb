{
 "metadata": {
  "language_info": {
   "codemirror_mode": {
    "name": "ipython",
    "version": 3
   },
   "file_extension": ".py",
   "mimetype": "text/x-python",
   "name": "python",
   "nbconvert_exporter": "python",
   "pygments_lexer": "ipython3",
   "version": "3.8.5-final"
  },
  "orig_nbformat": 2,
  "kernelspec": {
   "name": "python3",
   "display_name": "Python 3.8.5 64-bit ('data442': conda)",
   "metadata": {
    "interpreter": {
     "hash": "8e3a21d38ab9816cf2a4fb5b70910b2de32092d7fedca6365d5651d786256744"
    }
   }
  }
 },
 "nbformat": 4,
 "nbformat_minor": 2,
 "cells": [
  {
   "cell_type": "code",
   "execution_count": 140,
   "metadata": {},
   "outputs": [
    {
     "output_type": "stream",
     "name": "stdout",
     "text": [
      "EPOCH:  0\n"
     ]
    },
    {
     "output_type": "error",
     "ename": "AttributeError",
     "evalue": "module 'torch' has no attribute 'Variable'",
     "traceback": [
      "\u001b[0;31m---------------------------------------------------------------------------\u001b[0m",
      "\u001b[0;31mAttributeError\u001b[0m                            Traceback (most recent call last)",
      "\u001b[0;32m<ipython-input-140-6b18fdb9e307>\u001b[0m in \u001b[0;36m<module>\u001b[0;34m\u001b[0m\n\u001b[1;32m     55\u001b[0m \u001b[0;34m\u001b[0m\u001b[0m\n\u001b[1;32m     56\u001b[0m     \u001b[0;31m#print(\"    Predicted Y:    \", y_pred)\u001b[0m\u001b[0;34m\u001b[0m\u001b[0;34m\u001b[0m\u001b[0;34m\u001b[0m\u001b[0m\n\u001b[0;32m---> 57\u001b[0;31m     \u001b[0mloss\u001b[0m \u001b[0;34m=\u001b[0m \u001b[0mtorch\u001b[0m\u001b[0;34m.\u001b[0m\u001b[0mVariable\u001b[0m\u001b[0;34m(\u001b[0m\u001b[0mcriterion\u001b[0m\u001b[0;34m(\u001b[0m\u001b[0my_pred\u001b[0m\u001b[0;34m,\u001b[0m \u001b[0mmodely\u001b[0m\u001b[0;34m)\u001b[0m\u001b[0;34m,\u001b[0m \u001b[0mrequires_grad\u001b[0m\u001b[0;34m=\u001b[0m\u001b[0;32mTrue\u001b[0m\u001b[0;34m)\u001b[0m\u001b[0;34m\u001b[0m\u001b[0;34m\u001b[0m\u001b[0m\n\u001b[0m\u001b[1;32m     58\u001b[0m     \u001b[0mprint\u001b[0m\u001b[0;34m(\u001b[0m\u001b[0;34m\"    Loss:           \"\u001b[0m\u001b[0;34m,\u001b[0m \u001b[0mloss\u001b[0m\u001b[0;34m)\u001b[0m\u001b[0;34m\u001b[0m\u001b[0;34m\u001b[0m\u001b[0m\n\u001b[1;32m     59\u001b[0m \u001b[0;34m\u001b[0m\u001b[0m\n",
      "\u001b[0;31mAttributeError\u001b[0m: module 'torch' has no attribute 'Variable'"
     ]
    }
   ],
   "source": [
    "import numpy as np\n",
    "import torch\n",
    "import math\n",
    "import importlib\n",
    "import socialSigLayers\n",
    "importlib.reload(socialSigLayers)\n",
    "import pandas as pd\n",
    "import random\n",
    "\n",
    "\n",
    "###### Define our model\n",
    "class SocialSigNet(torch.nn.Module):\n",
    "    def __init__(self, X):\n",
    "        super().__init__()\n",
    "        self.SocialSig = socialSigLayers.bilinearImputation(X=X)                \n",
    "        self.maxPool = torch.nn.MaxPool2d(kernel_size=(10,10))  #10,10 is static here.  Will need to be dynamic based on user dim settings.\n",
    "\n",
    "    def forward(self, X):\n",
    "        out = self.SocialSig(X)\n",
    "        out = self.maxPool(out)\n",
    "        \n",
    "        return out\n",
    "\n",
    "####### Load our Data\n",
    "devSet = pd.read_csv(\"us_migration.csv\")\n",
    "devSet = devSet.loc[:, ~devSet.columns.str.contains('^Unnamed')]\n",
    "devSet = devSet.apply(lambda x: pd.to_numeric(x, errors='coerce'))\n",
    "devSet = devSet.dropna(axis=1)\n",
    "\n",
    "#y - 'number_moved'\n",
    "#x - 'everything else that is or can be represented as a float.'\n",
    "y = torch.Tensor(devSet['US_MIG_05_10'].values)\n",
    "X = devSet.loc[:, devSet.columns != \"US_MIG_05_10\"].values\n",
    "####### Build and fit the Model\n",
    "model = SocialSigNet(X=X)\n",
    "lr = 1\n",
    "batchSize = 8\n",
    "\n",
    "criterion = torch.nn.MSELoss(reduction='sum')\n",
    "optimizer = torch.optim.SGD(model.parameters(), lr = lr)\n",
    "\n",
    "\n",
    "def update_function(param, grad, loss, learning_rate):\n",
    "    return param - learning_rate * grad\n",
    "\n",
    "\n",
    "for t in range(2):\n",
    "    #Batches\n",
    "    batchObs = random.sample(range(0, len(y)),batchSize)\n",
    "    modelX = X[batchObs]\n",
    "    modely = y[batchObs]\n",
    "    \n",
    "    print(\"EPOCH: \", t)\n",
    "    y_pred = model(modelX)\n",
    "    \n",
    "    #print(\"    Predicted Y:    \", y_pred)\n",
    "    loss = criterion(y_pred, modely)\n",
    "    print(\"    Loss:           \", loss)\n",
    "\n",
    "    # Zero gradients, perform a backward pass, and update the weights.\n",
    "    #optimizer.zero_grad()\n",
    "    print(model(X))\n",
    "    grad = torch.autograd.grad(outputs=loss, inputs=modelX, retain_graph = True)\n",
    "    #print(\"    Gradient:       \", grad[0])\n",
    "    loss.backward()\n",
    "    optimizer.step()\n",
    "    # https://discuss.pytorch.org/t/updatation-of-parameters-without-using-optimizer-step/34244/4\n",
    "    with torch.no_grad():\n",
    "        for p in model.parameters():\n",
    "            print(\"    In with:        \", p.data)\n",
    "            new_val = update_function(p, grad[0], loss, lr)\n",
    "            p.copy_(new_val)\n",
    "    \n",
    "    print(\"\\n\")"
   ]
  }
 ]
}