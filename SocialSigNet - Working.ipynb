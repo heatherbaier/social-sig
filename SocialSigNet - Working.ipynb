{
 "cells": [
  {
   "cell_type": "code",
   "execution_count": 832,
   "metadata": {},
   "outputs": [],
   "source": [
    "import numpy as np\n",
    "import torch\n",
    "import math\n",
    "import pytorchvis"
   ]
  },
  {
   "cell_type": "code",
   "execution_count": 833,
   "metadata": {},
   "outputs": [],
   "source": [
    "class makeCoords(torch.nn.Module):\n",
    "    def __init__(self, X):\n",
    "        \"\"\"\n",
    "        Layer to make the coordiante pairs\n",
    "        The self.coords parameter is what we care about training in the Net so we initialize it here\n",
    "        and then we'll continue passing the self.coords Param (as X) through the Net\n",
    "        \"\"\"\n",
    "        super().__init__()\n",
    "        self.coords = torch.nn.Parameter(torch.tensor(torch.arange(start=0, end=len(X)*2,step=1), dtype = torch.float32))\n",
    "        \n",
    "    def forward(self, input):\n",
    "        print(\"    Current Coordinates: \", [i.item() for i in self.coords])\n",
    "        # We have to do ~something~ to the Param here, I think of it kind of like 'activating' the parameter\n",
    "        # We can also add or subtract to 'activate' but this just returns the self.coords without any changes\n",
    "        return self.coords"
   ]
  },
  {
   "cell_type": "code",
   "execution_count": 834,
   "metadata": {},
   "outputs": [],
   "source": [
    "class SocialSig(torch.nn.Module):\n",
    "    '''\n",
    "    Class to create the social signature image\n",
    "    '''\n",
    "    def __init__(self, X, W):\n",
    "        super(SocialSig, self).__init__()\n",
    "        self.W = W\n",
    "        self.outDim = [10,10]\n",
    "        self.inDim = math.ceil(math.sqrt(len(X)))\n",
    "        self.X = X\n",
    "        \n",
    "\n",
    "    def forward(self):\n",
    "        xTemp = torch.stack([self.X, self.W])\n",
    "        X = torch.sort(xTemp, dim=1, descending=False)\n",
    "        buildImage = torch.reshape(X[0][0],(1, 1, self.inDim, self.inDim))\n",
    "        return torch.nn.functional.interpolate(buildImage, size=([self.outDim[0], self.outDim[1]]), mode='bilinear')\n",
    "       \n",
    "    \n",
    "\n",
    "        \n",
    "\n",
    "        "
   ]
  },
  {
   "cell_type": "code",
   "execution_count": 835,
   "metadata": {},
   "outputs": [],
   "source": [
    "class SocialSigNet(torch.nn.Module):\n",
    "    def __init__(self, X):\n",
    "        \"\"\"\n",
    "        In the constructor we instantiate four parameters and assign them as\n",
    "        member parameters.\n",
    "        \"\"\"\n",
    "        super().__init__()\n",
    "        W = torch.nn.Parameter(torch.tensor(np.arange(0,len(X)), dtype = torch.float32, requires_grad=True))\n",
    "        self.SocialSig = SocialSig(X,W)                \n",
    "        self.maxPool = torch.nn.MaxPool2d(kernel_size=(10,10))  #10,10 is static here.  Will need to be dynamic based on user dim settings.\n",
    "\n",
    "    def forward(self, X):\n",
    "        out = self.SocialSig()\n",
    "        out = self.maxPool(out)\n",
    "        \n",
    "        return out"
   ]
  },
  {
   "cell_type": "code",
   "execution_count": 836,
   "metadata": {},
   "outputs": [
    {
     "output_type": "stream",
     "name": "stdout",
     "text": [
      "[Parameter containing:\ntensor([0., 1., 2., 3.], requires_grad=True)]\n"
     ]
    }
   ],
   "source": [
    "# Create random tensors to hold input and outputs.\n",
    "X = torch.tensor([-1.6848, -0.6, -93.2, -182.2])\n",
    "y = torch.tensor([0.0359])\n",
    "\n",
    "# Construct our model by instantiating the class defined above\n",
    "model = SocialSigNet(X=X)\n",
    "#print(dir(model))\n",
    "print(list(model.parameters()))"
   ]
  },
  {
   "cell_type": "code",
   "execution_count": 837,
   "metadata": {},
   "outputs": [
    {
     "output_type": "execute_result",
     "data": {
      "text/plain": [
       "'backPropViz.png'"
      ]
     },
     "metadata": {},
     "execution_count": 837
    }
   ],
   "source": [
    "from torchviz import make_dot\n",
    "\n",
    "make_dot(model(X), params=dict(list(model.named_parameters()))).render(\"backPropViz\", format=\"png\")"
   ]
  },
  {
   "cell_type": "code",
   "execution_count": 838,
   "metadata": {},
   "outputs": [
    {
     "output_type": "stream",
     "name": "stdout",
     "text": [
      "Epoch:  0\n    Predicted Y:  tensor([[[[-0.6000]]]], grad_fn=<MaxPool2DWithIndicesBackward>)\n    Loss:  tensor([[[[0.4044]]]], grad_fn=<MseLossBackward>)\n\n\nEpoch:  1\n    Predicted Y:  tensor([[[[-0.6000]]]], grad_fn=<MaxPool2DWithIndicesBackward>)\n    Loss:  tensor([[[[0.4044]]]], grad_fn=<MseLossBackward>)\n\n\nModel.parameters\n<bound method Module.parameters of SocialSigNet(\n  (SocialSig): SocialSig()\n  (maxPool): MaxPool2d(kernel_size=(10, 10), stride=(10, 10), padding=0, dilation=1, ceil_mode=False)\n)>\nSSParam\n[Parameter containing:\ntensor([0., 1., 2., 3.], requires_grad=True)]\nreqGrad\nParameter containing:\ntensor([0., 1., 2., 3.], requires_grad=True)\ngradfn\nNone\nGrad\ntensor([0., 0., 0., 0.])\n"
     ]
    }
   ],
   "source": [
    "\n",
    "criterion = torch.nn.MSELoss(reduction='none')\n",
    "optimizer = torch.optim.SGD(model.parameters(), lr=1e-5)\n",
    "\n",
    "\n",
    "\n",
    "for t in range(2):\n",
    "    print(\"Epoch: \", t)\n",
    "    y_pred = model(X)\n",
    "    print(\"    Predicted Y: \", y_pred)\n",
    "    loss = criterion(y_pred, y)\n",
    "    print(\"    Loss: \", loss)\n",
    "\n",
    "    # Zero gradients, perform a backward pass, and update the weights.\n",
    "    optimizer.zero_grad()\n",
    "    loss.backward()\n",
    "    optimizer.step()\n",
    "    print(\"\\n\")\n",
    "\n",
    "print(\"Model.parameters\")\n",
    "print(model.parameters)\n",
    "print(\"SSParam\")\n",
    "print(list(model.SocialSig.parameters()))\n",
    "print(\"is_leaf\")\n",
    "print(list(model.SocialSig.parameters())[0].is_leaf)\n",
    "print(\"gradfn\")\n",
    "print(list(model.SocialSig.parameters())[0].grad_fn)\n",
    "print(\"Grad\")\n",
    "print(list(model.SocialSig.parameters())[0].grad)\n",
    "\n",
    "\n"
   ]
  },
  {
   "cell_type": "code",
   "execution_count": null,
   "metadata": {},
   "outputs": [],
   "source": []
  }
 ],
 "metadata": {
  "kernelspec": {
   "name": "python3",
   "display_name": "Python 3.8.5 64-bit ('data442': conda)",
   "metadata": {
    "interpreter": {
     "hash": "8e3a21d38ab9816cf2a4fb5b70910b2de32092d7fedca6365d5651d786256744"
    }
   }
  },
  "language_info": {
   "codemirror_mode": {
    "name": "ipython",
    "version": 3
   },
   "file_extension": ".py",
   "mimetype": "text/x-python",
   "name": "python",
   "nbconvert_exporter": "python",
   "pygments_lexer": "ipython3",
   "version": "3.8.5-final"
  }
 },
 "nbformat": 4,
 "nbformat_minor": 2
}