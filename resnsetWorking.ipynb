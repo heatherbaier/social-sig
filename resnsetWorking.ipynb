{
 "metadata": {
  "language_info": {
   "codemirror_mode": {
    "name": "ipython",
    "version": 3
   },
   "file_extension": ".py",
   "mimetype": "text/x-python",
   "name": "python",
   "nbconvert_exporter": "python",
   "pygments_lexer": "ipython3",
   "version": "3.6.12-final"
  },
  "orig_nbformat": 2,
  "kernelspec": {
   "name": "caoe",
   "display_name": "caoe",
   "language": "python"
  }
 },
 "nbformat": 4,
 "nbformat_minor": 2,
 "cells": [
  {
   "cell_type": "code",
   "execution_count": 239,
   "metadata": {},
   "outputs": [],
   "source": [
    "import matplotlib.pyplot as plt\n",
    "from copy import deepcopy\n",
    "import rasterio as rio\n",
    "import pandas as pd\n",
    "import numpy as np\n",
    "import importlib\n",
    "import sklearn\n",
    "import random\n",
    "import pickle\n",
    "import torch\n",
    "import math\n",
    "import copy\n",
    "\n",
    "import resnet18\n",
    "importlib.reload(resnet18)\n",
    "from helpers import *"
   ]
  },
  {
   "cell_type": "code",
   "execution_count": 194,
   "metadata": {},
   "outputs": [],
   "source": [
    "import warnings\n",
    "warnings.filterwarnings('ignore')\n"
   ]
  },
  {
   "cell_type": "code",
   "execution_count": 195,
   "metadata": {},
   "outputs": [],
   "source": [
    "class dataLoader():\n",
    "\n",
    "    def __init__(self, dir, df):\n",
    "        self.data = []\n",
    "        self.labels = []\n",
    "        df = pd.read_csv(df)\n",
    "\n",
    "        for i in os.listdir(dir):\n",
    "            fname = os.path.join(dir, i)\n",
    "            im = np.array(rio.open(fname).read(1))\n",
    "            im = torch.from_numpy(im)\n",
    "            im = torch.reshape(im, (1, 224, 224)).numpy()\n",
    "            num_mig = df[df['sending'] == int(fname.split(\"m\")[1].split(\".\")[0])]['US_MIG_05_10'].to_list()[0]\n",
    "\n",
    "            self.data.append(im)\n",
    "            self.labels.append(num_mig)\n",
    "\n",
    "    def train_val_split(self, split):\n",
    "        train_num = int(len(self.data) * split)\n",
    "        train_indices = random.sample(range(0, len(self.data)), train_num)\n",
    "        val_indices = [i for i in range(0, len(self.data)) if i not in train_indices]\n",
    "        x_train, y_train = [self.data[i] for i in train_indices], [self.labels[i] for i in train_indices]\n",
    "        x_val, y_val = [self.data[i] for i in val_indices], [self.labels[i] for i in val_indices]\n",
    "        return x_train, y_train, x_val, y_val \n"
   ]
  },
  {
   "cell_type": "code",
   "execution_count": 196,
   "metadata": {
    "tags": []
   },
   "outputs": [],
   "source": [
    "d = dataLoader(\"./final_pics\", \"./us_migration.csv\")"
   ]
  },
  {
   "cell_type": "code",
   "execution_count": 197,
   "metadata": {},
   "outputs": [],
   "source": [
    "x_train, y_train, x_val, y_val = d.train_val_split(split = .80)"
   ]
  },
  {
   "cell_type": "code",
   "execution_count": 287,
   "metadata": {},
   "outputs": [],
   "source": [
    "#y - 'number_moved'\n",
    "#x - 'everything else that is or can be represented as a float.'\n",
    "\n",
    "####### Build and fit the Model\n",
    "lr = 1e-7\n",
    "batchSize = 50\n",
    "model = resnet18.resnet18(outDim = batchSize)"
   ]
  },
  {
   "cell_type": "code",
   "execution_count": 288,
   "metadata": {},
   "outputs": [],
   "source": [
    "criterion = torch.nn.MSELoss(reduction='sum')\n",
    "optimizer = torch.optim.SGD(model.parameters(), lr = lr)"
   ]
  },
  {
   "cell_type": "code",
   "execution_count": 289,
   "metadata": {},
   "outputs": [],
   "source": [
    "def train_model(model, criterion, optimizer, lr, batchSize, num_epochs):\n",
    "\n",
    "    losses = []\n",
    "    maes = []\n",
    "    best_mae = 100000000\n",
    "    i_to_print = torch.tensor([0,1,2,3,4])\n",
    "\n",
    "    for t in range(num_epochs):\n",
    "\n",
    "        for phase in ['train', 'val']:\n",
    "\n",
    "            if phase == 'train':\n",
    "\n",
    "                #Batches\n",
    "                batchObs = random.sample(range(0, len(y_train)), batchSize)\n",
    "                # print(batchObs)\n",
    "                modelX = [x_train[i] for i in batchObs]\n",
    "                modelX = torch.tensor(list(modelX), requires_grad = True, dtype = torch.float32)\n",
    "                modely = torch.tensor([y_train[i] for i in batchObs], dtype = torch.float32)  # MADE A CHANGE HERE \n",
    "                y_pred = model(modelX, t)\n",
    "                \n",
    "                loss = criterion(y_pred, modely)  \n",
    "                \n",
    "                # Zero gradients, perform a backward pass, and update the weights.\n",
    "                optimizer.zero_grad()\n",
    "                grad = torch.autograd.grad(outputs=loss, inputs=modelX, retain_graph = True)\n",
    "                # print(\"    GRADIENT: \", grad[0][0].shape)\n",
    "                # print(\"    GRADIENT: \", grad[0])\n",
    "                loss.backward()\n",
    "                optimizer.step()\n",
    "                # https://discuss.pytorch.org/t/updatation-of-parameters-without-using-optimizer-step/34244/4\n",
    "                # with torch.no_grad():\n",
    "                #     for name, p in model.named_parameters():\n",
    "                #         if name == 'SocialSig.W':\n",
    "                #         # print(\"    In with:        \", p.data)\n",
    "                #             new_val = socialSigLayers.update_function(p, grad[0], loss, lr)\n",
    "                #         # print(\"NEW WEIGHTS: \", new_val)\n",
    "                #             p.copy_(new_val)\n",
    "\n",
    "                print(\"EPOCH: \", t)\n",
    "                # print(\"    Train\")\n",
    "                epoch_mae = mae(y_pred, modely).item()\n",
    "                print(\"    TRAIN    Loss:   \", loss.item(), \"     MAE:   \", epoch_mae)\n",
    "                print(\"    Train Preds:     \", torch.index_select(y_pred, 0, i_to_print))\n",
    "                print(\"    Train True:       \", torch.index_select(modely, 0, i_to_print))\n",
    "\n",
    "            if phase == 'val':\n",
    "\n",
    "                #Batches\n",
    "                batchObs = random.sample(range(0, len(y_train)), batchSize)\n",
    "                # print(batchObs)\n",
    "                modelX = [x_train[i] for i in batchObs]\n",
    "                modelX = torch.tensor(list(modelX), requires_grad = True, dtype = torch.float32)\n",
    "                modely = torch.tensor([y_train[i] for i in batchObs], dtype = torch.float32)  # MADE A CHANGE HERE \n",
    "                \n",
    "                # Perform evaluations of the batch predictions\n",
    "                y_pred = model(modelX, t)\n",
    "                \n",
    "                loss = criterion(y_pred, modely)  \n",
    "                epoch_mae = mae(y_pred, modely).item()\n",
    "                print(\"    VAL      Loss:   \", loss.item(), \"     MAE:   \", epoch_mae)\n",
    "                print(\"    Val Preds:       \", torch.index_select(y_pred, 0, i_to_print))\n",
    "                print(\"    Val True:       \", torch.index_select(modely, 0, i_to_print))\n",
    "\n",
    "                if epoch_mae < best_mae:\n",
    "                    \n",
    "                    best_mae = epoch_mae\n",
    "                    best_model_wts = copy.deepcopy(model.state_dict())\n",
    "                    model_name = './models/test_Epoch' + str(t) + '.sav'\n",
    "                    pickle.dump(model, open(model_name, 'wb'))\n",
    "\n",
    "                losses.append(loss.item())\n",
    "                maes.append(epoch_mae)\n",
    "                \n",
    "        print(\"\\n\")\n",
    "\n",
    "    print(\"TRAINING COMPLETE\")\n",
    "    print(\"Best MAE: \", best_mae)\n",
    "\n",
    "\n",
    "    for name, p in model.named_parameters():\n",
    "        if name == 'SocialSig.W':\n",
    "            print(p.data)\n",
    "\n",
    "\n",
    "    # print(best_model_wts)\n",
    "\n",
    "    # return model.load_state_dict(best_model_wts)\n",
    "    return best_model_wts, losses, maes, y_pred, modely"
   ]
  },
  {
   "cell_type": "code",
   "execution_count": 290,
   "metadata": {
    "tags": []
   },
   "outputs": [
    {
     "output_type": "stream",
     "name": "stdout",
     "text": [
      "EPOCH:  0\n",
      "    TRAIN    Loss:    10487957.0      MAE:    316.443359375\n",
      "    Train Preds:      tensor([ 0.3873,  0.8914, -0.8172, -0.1712,  0.1006],\n",
      "       grad_fn=<IndexSelectBackward>)\n",
      "    Train True:        tensor([482.,  34., 270.,   0., 549.])\n",
      "    VAL      Loss:    4579889.0      MAE:    224.42959594726562\n",
      "    Val Preds:        tensor([29.8557,  2.5505, 16.2873, -0.4924, 33.7161],\n",
      "       grad_fn=<IndexSelectBackward>)\n",
      "    Val True:        tensor([194., 283.,   8., 278., 446.])\n",
      "\n",
      "\n",
      "EPOCH:  1\n",
      "    TRAIN    Loss:    11222692.0      MAE:    259.5580139160156\n",
      "    Train Preds:      tensor([29.7198,  2.3270, 15.8842,  0.2193, 33.4683],\n",
      "       grad_fn=<IndexSelectBackward>)\n",
      "    Train True:        tensor([  28.,  444., 2435.,  139.,   37.])\n",
      "    VAL      Loss:    33742160.0      MAE:    371.6769104003906\n",
      "    Val Preds:        tensor([ 33.2029,  29.8107, 165.8751,   8.8219,  38.3747],\n",
      "       grad_fn=<IndexSelectBackward>)\n",
      "    Val True:        tensor([  28.,  248., 1777.,  777.,   61.])\n",
      "\n",
      "\n",
      "EPOCH:  2\n",
      "    TRAIN    Loss:    10890065.0      MAE:    270.9794006347656\n",
      "    Train Preds:      tensor([ 33.4155,  30.3260, 169.2444,   9.1264,  38.1684],\n",
      "       grad_fn=<IndexSelectBackward>)\n",
      "    Train True:        tensor([551.,  92., 318.,  26., 249.])\n",
      "    VAL      Loss:    10306905.0      MAE:    247.8151397705078\n",
      "    Val Preds:        tensor([ 73.2899,  36.9800, 194.2746,  10.9970,  56.2853],\n",
      "       grad_fn=<IndexSelectBackward>)\n",
      "    Val True:        tensor([132., 250., 189., 341., 132.])\n",
      "\n",
      "\n",
      "EPOCH:  3\n",
      "    TRAIN    Loss:    7373018.0      MAE:    237.4022674560547\n",
      "    Train Preds:      tensor([ 71.5178,  36.5694, 191.9141,  10.9942,  55.2381],\n",
      "       grad_fn=<IndexSelectBackward>)\n",
      "    Train True:        tensor([ 64., 430., 142.,  48., 394.])\n",
      "    VAL      Loss:    5981980.0      MAE:    246.54351806640625\n",
      "    Val Preds:        tensor([ 84.6136,  76.1916, 207.7942,  15.4464,  94.6927],\n",
      "       grad_fn=<IndexSelectBackward>)\n",
      "    Val True:        tensor([255., 699.,  29., 318.,  51.])\n",
      "\n",
      "\n",
      "EPOCH:  4\n",
      "    TRAIN    Loss:    10204974.0      MAE:    279.966796875\n",
      "    Train Preds:      tensor([ 85.1188,  76.7689, 208.3934,  15.2698,  94.7053],\n",
      "       grad_fn=<IndexSelectBackward>)\n",
      "    Train True:        tensor([ 391.,  212., 1660.,  613.,  136.])\n",
      "    VAL      Loss:    3526808.75      MAE:    187.03292846679688\n",
      "    Val Preds:        tensor([119.5277,  98.1633, 385.5530,  81.7027, 103.7122],\n",
      "       grad_fn=<IndexSelectBackward>)\n",
      "    Val True:        tensor([320.,  34., 153., 118., 259.])\n",
      "\n",
      "\n",
      "EPOCH:  5\n",
      "    TRAIN    Loss:    9850744.0      MAE:    243.52523803710938\n",
      "    Train Preds:      tensor([119.4503,  99.0009, 389.0656,  82.1268, 103.9703],\n",
      "       grad_fn=<IndexSelectBackward>)\n",
      "    Train True:        tensor([1037.,   82.,   52.,   81.,  265.])\n",
      "    VAL      Loss:    11172786.0      MAE:    256.4902038574219\n",
      "    Val Preds:        tensor([247.2631, 101.4399, 358.8641,  90.2606, 131.1970],\n",
      "       grad_fn=<IndexSelectBackward>)\n",
      "    Val True:        tensor([830., 795.,  82.,  14.,  70.])\n",
      "\n",
      "\n",
      "EPOCH:  6\n",
      "    TRAIN    Loss:    3259279.25      MAE:    177.77537536621094\n",
      "    Train Preds:      tensor([248.7172, 101.5876, 359.3518,  90.5047, 131.9629],\n",
      "       grad_fn=<IndexSelectBackward>)\n",
      "    Train True:        tensor([250., 364.,  78., 133., 399.])\n",
      "    VAL      Loss:    13364993.0      MAE:    246.7222900390625\n",
      "    Val Preds:        tensor([255.0358, 142.6888, 334.3205, 100.3845, 173.7670],\n",
      "       grad_fn=<IndexSelectBackward>)\n",
      "    Val True:        tensor([109., 122., 396.,  36.,  20.])\n",
      "\n",
      "\n",
      "EPOCH:  7\n",
      "    TRAIN    Loss:    18175964.0      MAE:    327.1098937988281\n",
      "    Train Preds:      tensor([259.7296, 144.6909, 339.3900, 101.8623, 176.0489],\n",
      "       grad_fn=<IndexSelectBackward>)\n",
      "    Train True:        tensor([153., 352., 283., 501., 355.])\n",
      "    VAL      Loss:    5854484.0      MAE:    226.96043395996094\n",
      "    Val Preds:        tensor([243.0460, 174.8041, 315.5549, 160.4917, 204.4099],\n",
      "       grad_fn=<IndexSelectBackward>)\n",
      "    Val True:        tensor([471., 300.,  46.,  80.,  98.])\n",
      "\n",
      "\n",
      "EPOCH:  8\n",
      "    TRAIN    Loss:    4353914.0      MAE:    217.08404541015625\n",
      "    Train Preds:      tensor([240.5859, 173.4260, 312.9924, 158.7911, 202.7879],\n",
      "       grad_fn=<IndexSelectBackward>)\n",
      "    Train True:        tensor([  18., 1276.,  127.,   87.,  424.])\n",
      "    VAL      Loss:    38781912.0      MAE:    462.8764953613281\n",
      "    Val Preds:        tensor([204.9936, 346.7363, 286.7741, 149.4646, 238.1484],\n",
      "       grad_fn=<IndexSelectBackward>)\n",
      "    Val True:        tensor([ 165., 1026.,  544.,  124.,  139.])\n",
      "\n",
      "\n",
      "EPOCH:  9\n",
      "    TRAIN    Loss:    6182070.5      MAE:    224.2546844482422\n",
      "    Train Preds:      tensor([206.5789, 352.3432, 288.4086, 151.2211, 241.3817],\n",
      "       grad_fn=<IndexSelectBackward>)\n",
      "    Train True:        tensor([446., 459., 777., 163.,  44.])\n",
      "    VAL      Loss:    6446410.0      MAE:    248.92709350585938\n",
      "    Val Preds:        tensor([252.5576, 367.6032, 390.5028, 159.8307, 210.1389],\n",
      "       grad_fn=<IndexSelectBackward>)\n",
      "    Val True:        tensor([ 64., 207., 391., 516.,  38.])\n",
      "\n",
      "\n",
      "EPOCH:  10\n",
      "    TRAIN    Loss:    5256869.5      MAE:    225.5323028564453\n",
      "    Train Preds:      tensor([252.3433, 366.2757, 389.4444, 159.2357, 209.8921],\n",
      "       grad_fn=<IndexSelectBackward>)\n",
      "    Train True:        tensor([233., 344., 530.,  88., 158.])\n",
      "    VAL      Loss:    4141162.0      MAE:    193.6400604248047\n",
      "    Val Preds:        tensor([240.3544, 342.1176, 404.9511, 140.0416, 192.7670],\n",
      "       grad_fn=<IndexSelectBackward>)\n",
      "    Val True:        tensor([971.,  38., 113., 165.,   0.])\n",
      "\n",
      "\n",
      "EPOCH:  11\n",
      "    TRAIN    Loss:    5248084.5      MAE:    237.81875610351562\n",
      "    Train Preds:      tensor([240.5503, 340.7906, 406.0023, 140.3692, 192.4262],\n",
      "       grad_fn=<IndexSelectBackward>)\n",
      "    Train True:        tensor([279., 270., 780.,  21.,   8.])\n",
      "    VAL      Loss:    5605353.5      MAE:    185.6606903076172\n",
      "    Val Preds:        tensor([221.6214, 283.6816, 429.3684, 106.7632, 144.5542],\n",
      "       grad_fn=<IndexSelectBackward>)\n",
      "    Val True:        tensor([466., 118., 109.,  10., 311.])\n",
      "\n",
      "\n",
      "EPOCH:  12\n",
      "    TRAIN    Loss:    14130624.0      MAE:    228.3431854248047\n",
      "    Train Preds:      tensor([222.9828, 283.8495, 431.2140, 107.3141, 144.7493],\n",
      "       grad_fn=<IndexSelectBackward>)\n",
      "    Train True:        tensor([219., 581., 629., 251.,  55.])\n",
      "    VAL      Loss:    6750168.0      MAE:    229.46524047851562\n",
      "    Val Preds:        tensor([238.2914, 374.4142, 461.5178, 138.8987, 154.8678],\n",
      "       grad_fn=<IndexSelectBackward>)\n",
      "    Val True:        tensor([150.,  31., 264.,  14., 251.])\n",
      "\n",
      "\n",
      "EPOCH:  13\n",
      "    TRAIN    Loss:    5842894.5      MAE:    247.07533264160156\n",
      "    Train Preds:      tensor([238.1451, 373.9482, 461.0637, 138.6126, 154.3503],\n",
      "       grad_fn=<IndexSelectBackward>)\n",
      "    Train True:        tensor([622.,   0., 154., 315., 165.])\n",
      "    VAL      Loss:    11203620.0      MAE:    278.3204040527344\n",
      "    Val Preds:        tensor([311.1404, 328.1433, 433.1660, 171.7944, 161.6793],\n",
      "       grad_fn=<IndexSelectBackward>)\n",
      "    Val True:        tensor([380., 270.,  14.,   8., 474.])\n",
      "\n",
      "\n",
      "EPOCH:  14\n",
      "    TRAIN    Loss:    12775737.0      MAE:    200.04702758789062\n",
      "    Train Preds:      tensor([314.2457, 331.1926, 434.5283, 173.5580, 163.6763],\n",
      "       grad_fn=<IndexSelectBackward>)\n",
      "    Train True:        tensor([209., 288.,  25.,  75.,  14.])\n",
      "    VAL      Loss:    3942529.0      MAE:    228.7306671142578\n",
      "    Val Preds:        tensor([280.3120, 308.5940, 340.2129, 146.7604, 134.4123],\n",
      "       grad_fn=<IndexSelectBackward>)\n",
      "    Val True:        tensor([222.,  82., 400., 569., 336.])\n",
      "\n",
      "\n",
      "EPOCH:  15\n",
      "    TRAIN    Loss:    3803444.25      MAE:    196.2437744140625\n",
      "    Train Preds:      tensor([282.6188, 311.2917, 341.5180, 147.8899, 135.6344],\n",
      "       grad_fn=<IndexSelectBackward>)\n",
      "    Train True:        tensor([348., 273., 342., 108., 203.])\n",
      "    VAL      Loss:    19126688.0      MAE:    324.42828369140625\n",
      "    Val Preds:        tensor([212.3181, 218.6212, 259.8477,  96.8528, 110.8280],\n",
      "       grad_fn=<IndexSelectBackward>)\n",
      "    Val True:        tensor([   0.,   26.,    0., 1634.,  216.])\n",
      "\n",
      "\n",
      "EPOCH:  16\n",
      "    TRAIN    Loss:    5614474.0      MAE:    176.87232971191406\n",
      "    Train Preds:      tensor([211.5582, 217.3358, 258.6647,  96.4939, 110.4282],\n",
      "       grad_fn=<IndexSelectBackward>)\n",
      "    Train True:        tensor([ 63., 122., 122.,   0.,  23.])\n",
      "    VAL      Loss:    8980785.0      MAE:    226.84500122070312\n",
      "    Val Preds:        tensor([123.8581, 134.1178, 178.4168,  51.5349,  67.1510],\n",
      "       grad_fn=<IndexSelectBackward>)\n",
      "    Val True:        tensor([ 29., 175., 252., 204.,   0.])\n",
      "\n",
      "\n",
      "EPOCH:  17\n",
      "    TRAIN    Loss:    5735431.5      MAE:    197.85659790039062\n",
      "    Train Preds:      tensor([124.1669, 134.2676, 178.0590,  51.6845,  67.4253],\n",
      "       grad_fn=<IndexSelectBackward>)\n",
      "    Train True:        tensor([ 358.,  101.,  775., 1578.,   28.])\n",
      "    VAL      Loss:    10775175.0      MAE:    210.47174072265625\n",
      "    Val Preds:        tensor([254.8923, 248.8478, 325.8404, 225.6896, 117.3713],\n",
      "       grad_fn=<IndexSelectBackward>)\n",
      "    Val True:        tensor([239., 469.,  23., 187.,  43.])\n",
      "\n",
      "\n",
      "EPOCH:  18\n",
      "    TRAIN    Loss:    3184897.5      MAE:    183.85870361328125\n",
      "    Train Preds:      tensor([253.2654, 246.8338, 324.3000, 226.2727, 116.4133],\n",
      "       grad_fn=<IndexSelectBackward>)\n",
      "    Train True:        tensor([530., 194., 597.,   5.,  12.])\n",
      "    VAL      Loss:    5188225.5      MAE:    237.8697052001953\n",
      "    Val Preds:        tensor([285.6100, 229.3309, 361.4295, 187.3755,  96.8840],\n",
      "       grad_fn=<IndexSelectBackward>)\n",
      "    Val True:        tensor([ 712., 1317.,  251.,  494.,  107.])\n",
      "\n",
      "\n",
      "EPOCH:  19\n",
      "    TRAIN    Loss:    3197383.75      MAE:    179.54061889648438\n",
      "    Train Preds:      tensor([286.3727, 230.1903, 362.5931, 187.4861,  97.2862],\n",
      "       grad_fn=<IndexSelectBackward>)\n",
      "    Train True:        tensor([ 13., 284., 558., 283., 258.])\n",
      "    VAL      Loss:    2969186.25      MAE:    185.39500427246094\n",
      "    Val Preds:        tensor([239.4654, 230.8529, 388.7881, 205.3544, 116.7692],\n",
      "       grad_fn=<IndexSelectBackward>)\n",
      "    Val True:        tensor([326., 309., 143.,  68.,   0.])\n",
      "\n",
      "\n",
      "TRAINING COMPLETE\n",
      "Best MAE:  185.39500427246094\n"
     ]
    }
   ],
   "source": [
    "num_epochs = 20\n",
    "\n",
    "best_model_wts, losses, maes, ypreds, ytrue = train_model(model, criterion, optimizer, lr, batchSize, num_epochs)"
   ]
  },
  {
   "cell_type": "code",
   "execution_count": 291,
   "metadata": {},
   "outputs": [
    {
     "output_type": "execute_result",
     "data": {
      "text/plain": [
       "tensor([239.4654, 230.8529, 388.7881, 205.3544, 116.7692, 209.8984, 320.1414,\n",
       "        220.0085, 262.6922, 220.5902, 108.7135, 207.8001, 224.9085, 188.0542,\n",
       "        126.9061, 103.1261, 271.0197,  85.6989, 298.4025, 352.7805, 182.3047,\n",
       "        254.9855, 262.8445, 334.5716, 196.8987, 284.6664, 394.3165, 144.0518,\n",
       "        121.1913, 236.6511, 251.5620, 192.1383, 248.8824, 122.9638, 281.4716,\n",
       "        348.8988, 240.2830, 214.0232, 394.4469, 203.0864, 276.6667, 243.5764,\n",
       "        253.3100, 160.2995, 334.8738, 193.6625, 161.0563, 183.8346, 183.0976,\n",
       "        160.3300], grad_fn=<AddBackward0>)"
      ]
     },
     "metadata": {},
     "execution_count": 291
    }
   ],
   "source": [
    "ypreds"
   ]
  },
  {
   "cell_type": "code",
   "execution_count": 328,
   "metadata": {},
   "outputs": [],
   "source": [
    "from sklearn.metrics import mean_absolute_percentage_error\n",
    "from sklearn.ensemble import RandomForestRegressor\n",
    "from sklearn.neighbors import KNeighborsRegressor\n",
    "from sklearn.neural_network import MLPRegressor\n",
    "from sklearn.metrics import mean_absolute_error\n",
    "from sklearn.metrics import r2_score\n",
    "from sklearn import preprocessing\n",
    "from sklearn import tree\n",
    "import pandas as pd\n",
    "import random"
   ]
  },
  {
   "cell_type": "code",
   "execution_count": null,
   "metadata": {},
   "outputs": [],
   "source": [
    "ytruelist = list(ytrue.detach().numpy())\n",
    "ypredlist = list(ypreds.detach().numpy())"
   ]
  },
  {
   "cell_type": "code",
   "execution_count": 330,
   "metadata": {},
   "outputs": [
    {
     "output_type": "execute_result",
     "data": {
      "text/plain": [
       "185.35498"
      ]
     },
     "metadata": {},
     "execution_count": 330
    }
   ],
   "source": [
    "mae = mean_absolute_error(ytruelist, ypredlist)\n",
    "mae"
   ]
  },
  {
   "cell_type": "code",
   "execution_count": 331,
   "metadata": {},
   "outputs": [
    {
     "output_type": "execute_result",
     "data": {
      "text/plain": [
       "13.829773"
      ]
     },
     "metadata": {},
     "execution_count": 331
    }
   ],
   "source": [
    "mape = mean_absolute_percentage_error(ytruelist, ypredlist)\n",
    "mape"
   ]
  },
  {
   "cell_type": "code",
   "execution_count": 332,
   "metadata": {},
   "outputs": [
    {
     "output_type": "execute_result",
     "data": {
      "text/plain": [
       "-0.10854503498266865"
      ]
     },
     "metadata": {},
     "execution_count": 332
    }
   ],
   "source": [
    "r2 = r2_score(ytruelist, ypredlist)\n",
    "r2"
   ]
  },
  {
   "cell_type": "code",
   "execution_count": 334,
   "metadata": {},
   "outputs": [
    {
     "output_type": "execute_result",
     "data": {
      "text/plain": [
       "11574.141670684814"
      ]
     },
     "metadata": {},
     "execution_count": 334
    }
   ],
   "source": [
    "abs(sum(ytruelist) - sum(ypredlist) / len(ypredlist))"
   ]
  },
  {
   "cell_type": "code",
   "execution_count": 317,
   "metadata": {},
   "outputs": [],
   "source": [
    "from sklearn.metrics import mean_absolute_percentage_error\n"
   ]
  },
  {
   "cell_type": "code",
   "execution_count": 321,
   "metadata": {},
   "outputs": [],
   "source": [
    "ytruelist = list(ytrue.detach().numpy())\n",
    "ypredlist = list(ypreds.detach().numpy())"
   ]
  },
  {
   "cell_type": "code",
   "execution_count": 323,
   "metadata": {},
   "outputs": [
    {
     "output_type": "execute_result",
     "data": {
      "text/plain": [
       "0.86736137"
      ]
     },
     "metadata": {},
     "execution_count": 323
    }
   ],
   "source": [
    "mean_absolute_percentage_error(ypredlist, ytruelist)"
   ]
  },
  {
   "cell_type": "code",
   "execution_count": 327,
   "metadata": {},
   "outputs": [
    {
     "output_type": "execute_result",
     "data": {
      "text/plain": [
       "13.829773"
      ]
     },
     "metadata": {},
     "execution_count": 327
    }
   ],
   "source": [
    "mean_absolute_percentage_error(ytruelist, ypredlist)"
   ]
  },
  {
   "cell_type": "code",
   "execution_count": null,
   "metadata": {},
   "outputs": [],
   "source": []
  }
 ]
}