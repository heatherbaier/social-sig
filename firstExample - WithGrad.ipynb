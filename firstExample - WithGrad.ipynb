{
 "cells": [
  {
   "cell_type": "code",
   "execution_count": 279,
   "metadata": {},
   "outputs": [],
   "source": [
    "import numpy as np\n",
    "import torch\n",
    "import math\n",
    "import importlib\n",
    "# import socialSigLayers\n",
    "# importlib.reload(socialSigLayers)\n",
    "import pandas as pd\n",
    "import random"
   ]
  },
  {
   "cell_type": "code",
   "execution_count": 280,
   "metadata": {},
   "outputs": [],
   "source": [
    "class bilinearImputation(torch.nn.Module):\n",
    "    '''\n",
    "    Class to create the social signature image\n",
    "    '''\n",
    "    def __init__(self, X):\n",
    "        super(bilinearImputation, self).__init__()\n",
    "        self.W = torch.nn.Parameter(torch.tensor(np.arange(0,X.shape[1]), dtype = torch.float32, requires_grad=True))\n",
    "        self.outDim = [10,10]\n",
    "        self.inDim = math.ceil(math.sqrt(X.shape[1]))\n",
    "\n",
    "    def forward(self, batchX):\n",
    "        \n",
    "        #print(\"    W at beginning: \", self.W) \n",
    "        self.X = batchX\n",
    "        xTemp = torch.stack([self.X, self.W.repeat(self.X.shape[0],1).data])\n",
    "        XSort = torch.sort(xTemp, dim=2, descending=False)\n",
    "        inDataSize = XSort[0][0].shape[1] #Data we have per dimension\n",
    "        targetSize = self.inDim ** 2\n",
    "        paddingOffset = targetSize - inDataSize\n",
    "        paddedInX = torch.nn.functional.pad(input=XSort[0][0], pad=(0,paddingOffset), mode=\"constant\", value=0)\n",
    "        buildImage = torch.reshape(paddedInX,(self.X.shape[0], 1, self.inDim, self.inDim))   \n",
    "        return torch.nn.functional.interpolate(buildImage, size=([self.outDim[0], self.outDim[1]]), mode='bilinear')"
   ]
  },
  {
   "cell_type": "code",
   "execution_count": 281,
   "metadata": {},
   "outputs": [],
   "source": [
    "###### Define our model\n",
    "class SocialSigNet(torch.nn.Module):\n",
    "    def __init__(self, X):\n",
    "        super().__init__()\n",
    "        self.SocialSig = bilinearImputation(X=X)                \n",
    "        self.maxPool = torch.nn.MaxPool2d(kernel_size=(10,10))  #10,10 is static here.  Will need to be dynamic based on user dim settings.\n",
    "        self.norm = torchvision.transforms.Normalize(0.5, 0.5)\n",
    "        \n",
    "        \n",
    "    def forward(self, X):\n",
    "        out = self.SocialSig(X)\n",
    "        out = self.maxPool(out)       \n",
    "        return out"
   ]
  },
  {
   "cell_type": "code",
   "execution_count": 282,
   "metadata": {},
   "outputs": [],
   "source": [
    "####### Load our Data\n",
    "devSet = pd.read_csv(\"us_migration.csv\")\n",
    "devSet = devSet.loc[:, ~devSet.columns.str.contains('^Unnamed')]\n",
    "devSet = devSet.apply(lambda x: pd.to_numeric(x, errors='coerce'))\n",
    "devSet = devSet.dropna(axis=1)"
   ]
  },
  {
   "cell_type": "code",
   "execution_count": 283,
   "metadata": {},
   "outputs": [],
   "source": [
    "#y - 'number_moved'\n",
    "#x - 'everything else that is or can be represented as a float.'\n",
    "y = torch.Tensor(devSet['US_MIG_05_10'].values)\n",
    "X = devSet.loc[:, devSet.columns != \"US_MIG_05_10\"].values\n",
    "####### Build and fit the Model\n",
    "model = SocialSigNet(X=X)\n",
    "lr = 1\n",
    "batchSize = 8"
   ]
  },
  {
   "cell_type": "code",
   "execution_count": 284,
   "metadata": {},
   "outputs": [],
   "source": [
    "criterion = torch.nn.MSELoss(reduction='sum')\n",
    "optimizer = torch.optim.SGD(model.parameters(), lr = lr)"
   ]
  },
  {
   "cell_type": "code",
   "execution_count": 285,
   "metadata": {},
   "outputs": [],
   "source": [
    "def update_function(param, grad, loss, learning_rate):\n",
    "    return param - learning_rate * grad.mean(axis = 0)"
   ]
  },
  {
   "cell_type": "code",
   "execution_count": 286,
   "metadata": {},
   "outputs": [
    {
     "name": "stdout",
     "output_type": "stream",
     "text": [
      "EPOCH:  0\n",
      "    Loss:      tensor(1.2220e+16, grad_fn=<MseLossBackward>)\n",
      "tensor(1.2220e+16, grad_fn=<MseLossBackward>)\n",
      "    In with:         tensor([ 0.,  1.,  2.,  3.,  4.,  5.,  6.,  7.,  8.,  9., 10., 11., 12., 13.,\n",
      "        14., 15., 16., 17., 18., 19., 20., 21., 22., 23., 24., 25., 26., 27.,\n",
      "        28., 29.])\n",
      "\n",
      "\n",
      "EPOCH:  1\n",
      "    Loss:      tensor(2.1180e+17, grad_fn=<MseLossBackward>)\n",
      "tensor(2.1180e+17, grad_fn=<MseLossBackward>)\n",
      "    In with:         tensor([ 0.0000e+00,  1.0000e+00,  2.0000e+00,  3.0000e+00,  4.0000e+00,\n",
      "         5.0000e+00,  6.0000e+00,  7.0000e+00,  8.0000e+00,  9.0000e+00,\n",
      "         1.0000e+01,  1.1000e+01,  1.2000e+01,  1.3000e+01,  1.4000e+01,\n",
      "         1.5000e+01,  1.6000e+01,  1.7000e+01,  1.8000e+01, -1.8088e+08,\n",
      "         2.0000e+01,  2.1000e+01,  2.2000e+01,  2.3000e+01,  2.4000e+01,\n",
      "         2.5000e+01,  2.6000e+01,  2.7000e+01,  2.8000e+01,  2.9000e+01])\n",
      "\n",
      "\n",
      "EPOCH:  2\n",
      "    Loss:      tensor(2.5730e+15, grad_fn=<MseLossBackward>)\n",
      "tensor(2.5730e+15, grad_fn=<MseLossBackward>)\n",
      "    In with:         tensor([ 0.0000e+00,  1.0000e+00,  2.0000e+00,  3.0000e+00,  4.0000e+00,\n",
      "         5.0000e+00,  6.0000e+00,  7.0000e+00,  8.0000e+00,  9.0000e+00,\n",
      "         1.0000e+01,  1.1000e+01,  1.2000e+01,  1.3000e+01,  1.4000e+01,\n",
      "         1.5000e+01,  1.6000e+01,  1.7000e+01,  1.8000e+01, -6.4282e+08,\n",
      "         2.0000e+01,  2.1000e+01,  2.2000e+01,  2.3000e+01,  2.4000e+01,\n",
      "         2.5000e+01,  2.6000e+01,  2.7000e+01,  2.8000e+01,  2.9000e+01])\n",
      "\n",
      "\n",
      "EPOCH:  3\n",
      "    Loss:      tensor(1.1930e+15, grad_fn=<MseLossBackward>)\n",
      "tensor(1.1930e+15, grad_fn=<MseLossBackward>)\n",
      "    In with:         tensor([ 0.0000e+00,  1.0000e+00,  2.0000e+00,  3.0000e+00,  4.0000e+00,\n",
      "         5.0000e+00,  6.0000e+00,  7.0000e+00,  8.0000e+00,  9.0000e+00,\n",
      "         1.0000e+01,  1.1000e+01,  1.2000e+01,  1.3000e+01,  1.4000e+01,\n",
      "         1.5000e+01,  1.6000e+01,  1.7000e+01,  1.8000e+01, -7.1853e+08,\n",
      "         2.0000e+01,  2.1000e+01,  2.2000e+01,  2.3000e+01,  2.4000e+01,\n",
      "         2.5000e+01,  2.6000e+01,  2.7000e+01,  2.8000e+01,  2.9000e+01])\n",
      "\n",
      "\n",
      "EPOCH:  4\n",
      "    Loss:      tensor(7.0705e+14, grad_fn=<MseLossBackward>)\n",
      "tensor(7.0705e+14, grad_fn=<MseLossBackward>)\n",
      "    In with:         tensor([ 0.0000e+00,  1.0000e+00,  2.0000e+00,  3.0000e+00,  4.0000e+00,\n",
      "         5.0000e+00,  6.0000e+00,  7.0000e+00,  8.0000e+00,  9.0000e+00,\n",
      "         1.0000e+01,  1.1000e+01,  1.2000e+01,  1.3000e+01,  1.4000e+01,\n",
      "         1.5000e+01,  1.6000e+01,  1.7000e+01,  1.8000e+01, -7.6987e+08,\n",
      "         2.0000e+01,  2.1000e+01,  2.2000e+01,  2.3000e+01,  2.4000e+01,\n",
      "         2.5000e+01,  2.6000e+01,  2.7000e+01,  2.8000e+01,  2.9000e+01])\n",
      "\n",
      "\n"
     ]
    },
    {
     "name": "stderr",
     "output_type": "stream",
     "text": [
      "/Users/heatherbaier/anaconda/envs/caoe/lib/python3.6/site-packages/ipykernel_launcher.py:6: UserWarning: To copy construct from a tensor, it is recommended to use sourceTensor.clone().detach() or sourceTensor.clone().detach().requires_grad_(True), rather than torch.tensor(sourceTensor).\n",
      "  \n",
      "/Users/heatherbaier/anaconda/envs/caoe/lib/python3.6/site-packages/torch/nn/functional.py:3455: UserWarning: Default upsampling behavior when mode=bilinear is changed to align_corners=False since 0.4.0. Please specify align_corners=True if the old behavior is desired. See the documentation of nn.Upsample for details.\n",
      "  \"See the documentation of nn.Upsample for details.\".format(mode)\n",
      "/Users/heatherbaier/anaconda/envs/caoe/lib/python3.6/site-packages/torch/nn/modules/loss.py:528: UserWarning: Using a target size (torch.Size([8])) that is different to the input size (torch.Size([8, 1, 1, 1])). This will likely lead to incorrect results due to broadcasting. Please ensure they have the same size.\n",
      "  return F.mse_loss(input, target, reduction=self.reduction)\n"
     ]
    }
   ],
   "source": [
    "for t in range(5):\n",
    "    #Batches\n",
    "    batchObs = random.sample(range(0, len(y)), batchSize)\n",
    "    modelX = X[batchObs]\n",
    "    modelX = torch.tensor(list(modelX), requires_grad = True, dtype = torch.float32)\n",
    "    modely = torch.tensor(y[batchObs], dtype = torch.float32)  # MADE A CHANGE HERE \n",
    "    \n",
    "    \n",
    "    print(\"EPOCH: \", t)\n",
    "    y_pred = model(modelX)\n",
    "    loss = criterion(y_pred, modely)    \n",
    "    print(\"    Loss:     \", loss)\n",
    "    print(loss)\n",
    "    \n",
    "    # Zero gradients, perform a backward pass, and update the weights.\n",
    "    optimizer.zero_grad()\n",
    "    grad = torch.autograd.grad(outputs=loss, inputs=modelX, retain_graph = True)\n",
    "    loss.backward()\n",
    "    optimizer.step()\n",
    "    # https://discuss.pytorch.org/t/updatation-of-parameters-without-using-optimizer-step/34244/4\n",
    "    with torch.no_grad():\n",
    "        for p in model.parameters():\n",
    "            print(\"    In with:        \", p.data)\n",
    "            new_val = update_function(p, grad[0], loss, lr)\n",
    "            p.copy_(new_val)\n",
    "    \n",
    "    print(\"\\n\")"
   ]
  },
  {
   "cell_type": "code",
   "execution_count": 287,
   "metadata": {},
   "outputs": [
    {
     "name": "stdout",
     "output_type": "stream",
     "text": [
      "Model.parameters\n",
      "<bound method Module.parameters of SocialSigNet(\n",
      "  (SocialSig): bilinearImputation()\n",
      "  (maxPool): MaxPool2d(kernel_size=(10, 10), stride=(10, 10), padding=0, dilation=1, ceil_mode=False)\n",
      ")>\n",
      "SSParam\n",
      "[Parameter containing:\n",
      "tensor([ 0.0000e+00,  1.0000e+00,  2.0000e+00,  3.0000e+00,  4.0000e+00,\n",
      "         5.0000e+00,  6.0000e+00,  7.0000e+00,  8.0000e+00,  9.0000e+00,\n",
      "         1.0000e+01,  1.1000e+01,  1.2000e+01,  1.3000e+01,  1.4000e+01,\n",
      "         1.5000e+01,  1.6000e+01,  1.7000e+01,  1.8000e+01, -8.0778e+08,\n",
      "         2.0000e+01,  2.1000e+01,  2.2000e+01,  2.3000e+01,  2.4000e+01,\n",
      "         2.5000e+01,  2.6000e+01,  2.7000e+01,  2.8000e+01,  2.9000e+01],\n",
      "       requires_grad=True)]\n",
      "is_leaf\n",
      "True\n",
      "gradfn\n",
      "None\n",
      "Grad\n",
      "None\n"
     ]
    }
   ],
   "source": [
    "print(\"Model.parameters\")\n",
    "print(model.parameters)\n",
    "print(\"SSParam\")\n",
    "print(list(model.SocialSig.parameters()))\n",
    "print(\"is_leaf\")\n",
    "print(list(model.SocialSig.parameters())[0].is_leaf)\n",
    "print(\"gradfn\")\n",
    "print(list(model.SocialSig.parameters())[0].grad_fn)\n",
    "print(\"Grad\")\n",
    "print(list(model.SocialSig.parameters())[0].grad)"
   ]
  },
  {
   "cell_type": "code",
   "execution_count": null,
   "metadata": {},
   "outputs": [],
   "source": []
  }
 ],
 "metadata": {
  "kernelspec": {
   "display_name": "caoe",
   "language": "python",
   "name": "caoe"
  },
  "language_info": {
   "codemirror_mode": {
    "name": "ipython",
    "version": 3
   },
   "file_extension": ".py",
   "mimetype": "text/x-python",
   "name": "python",
   "nbconvert_exporter": "python",
   "pygments_lexer": "ipython3",
   "version": "3.6.12"
  }
 },
 "nbformat": 4,
 "nbformat_minor": 2
}
