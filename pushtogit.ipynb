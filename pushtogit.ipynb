{
 "cells": [
  {
   "cell_type": "code",
   "execution_count": 127,
   "metadata": {},
   "outputs": [],
   "source": [
    "import torch\n",
    "import math\n",
    "\n",
    "import matplotlib.pyplot as plt\n",
    "import openturns as ot\n",
    "import numpy as np\n",
    "\n",
    "import torch.nn as nn\n",
    "\n",
    "import random\n",
    "\n",
    "import torch.nn.functional as F"
   ]
  },
  {
   "cell_type": "code",
   "execution_count": 182,
   "metadata": {},
   "outputs": [],
   "source": [
    "class SocialSig(nn.Module):\n",
    "    def __init__(self):\n",
    "        super(SocialSig, self).__init__()\n",
    "        # self.weight = torch.nn.Parameter(data=torch.Tensor(1, 1, 1, 1), requires_grad=True)\n",
    "        self.weight = torch.nn.Parameter(torch.randn(()))\n",
    "        \n",
    "        self.coords = coords\n",
    "        \n",
    "#         self.weight.data.uniform_(-1, 1)\n",
    "\n",
    "\n",
    "    def __train_krigging(self, points, coords, weight):\n",
    "        '''\n",
    "        Train the krigging model to predict all of the points that are between known points\n",
    "        '''\n",
    "        \n",
    "        random.Random(weight).shuffle(points)\n",
    "        \n",
    "        coordinates_train = ot.Sample(coords)\n",
    "        data_train = ot.Sample(points) # At 2000/1/2\n",
    "        inputDimension = 2\n",
    "        basis = ot.ConstantBasisFactory(inputDimension).build()\n",
    "        covarianceModel = ot.SquaredExponential([1.]*inputDimension, [1.0])\n",
    "        algo = ot.KrigingAlgorithm(coordinates_train, data_train, covarianceModel, basis)\n",
    "        algo.run()\n",
    "        result = algo.getResult()\n",
    "        krigingMetamodel = result.getMetaModel()\n",
    "        return [krigingMetamodel, points]\n",
    "    \n",
    "    \n",
    "    def __make_blank_coord_grid(self, n_rows):\n",
    "        '''\n",
    "        Make a blank coordinate grid to fill in with real data later\n",
    "        '''\n",
    "        return [[x,y] for x in range(0, 4) for y in range(0,4)]\n",
    "            \n",
    "\n",
    "    def __make_real_data_set(self, blank_grid, points, coords, krigingMetamodel):\n",
    "        '''\n",
    "        Fill in the blank grid with real data.\n",
    "        If the coordinate pair is in the list that has real data, give the coord real data.\n",
    "        If not, krig it.\n",
    "        '''\n",
    "        \n",
    "        to_return = [(points[coords.index(i)][0]) if i in coords else list(krigingMetamodel(i))[0] for i in blank_grid]\n",
    "        to_return = torch.from_numpy(np.reshape(np.array(to_return), (1,1,4,4)))\n",
    "        to_return = torch.tensor(to_return, dtype=torch.float)\n",
    "\n",
    "        return to_return\n",
    "    \n",
    "    def process(self, x, coords, weight):\n",
    "#         self.__points, self.__coords = self.__make_training_data(num_known_points, n_rows, seed)\n",
    "        krig, points = self.__train_krigging(x, coords, self.weight)\n",
    "        blank_grid = self.__make_blank_coord_grid(2)\n",
    "        real_dataset = self.__make_real_data_set(blank_grid, points, coords, krig)\n",
    "        \n",
    "        return real_dataset\n",
    "\n",
    "        \n",
    "    \n",
    "    def forward(self, x):\n",
    "        \n",
    "        print(\"WEIGHT: \", self.weight)\n",
    "        \n",
    "#         coords = [(list(np.random.randint(low = 0, high = math.sqrt(len(x)), size = 2))) for i in range(0, len(x))]        \n",
    "#         self.process(x, coords, self.weight)\n",
    "        return self.process(x, self.coords, self.weight) * self.weight"
   ]
  },
  {
   "cell_type": "code",
   "execution_count": null,
   "metadata": {},
   "outputs": [],
   "source": []
  },
  {
   "cell_type": "code",
   "execution_count": 124,
   "metadata": {},
   "outputs": [
    {
     "ename": "NameError",
     "evalue": "name 'weight' is not defined",
     "output_type": "error",
     "traceback": [
      "\u001b[0;31m---------------------------------------------------------------------------\u001b[0m",
      "\u001b[0;31mNameError\u001b[0m                                 Traceback (most recent call last)",
      "\u001b[0;32m<ipython-input-124-002704bc34ed>\u001b[0m in \u001b[0;36m<module>\u001b[0;34m\u001b[0m\n\u001b[1;32m      1\u001b[0m \u001b[0mmodel\u001b[0m \u001b[0;34m=\u001b[0m \u001b[0mSocialSig\u001b[0m\u001b[0;34m(\u001b[0m\u001b[0;34m)\u001b[0m\u001b[0;34m\u001b[0m\u001b[0;34m\u001b[0m\u001b[0m\n\u001b[0;32m----> 2\u001b[0;31m \u001b[0mmodel\u001b[0m\u001b[0;34m(\u001b[0m\u001b[0mmake_example_data\u001b[0m\u001b[0;34m(\u001b[0m\u001b[0;36m14\u001b[0m\u001b[0;34m)\u001b[0m\u001b[0;34m)\u001b[0m\u001b[0;34m\u001b[0m\u001b[0;34m\u001b[0m\u001b[0m\n\u001b[0m",
      "\u001b[0;32m~/anaconda/envs/caoe/lib/python3.6/site-packages/torch/nn/modules/module.py\u001b[0m in \u001b[0;36m_call_impl\u001b[0;34m(self, *input, **kwargs)\u001b[0m\n\u001b[1;32m    887\u001b[0m             \u001b[0mresult\u001b[0m \u001b[0;34m=\u001b[0m \u001b[0mself\u001b[0m\u001b[0;34m.\u001b[0m\u001b[0m_slow_forward\u001b[0m\u001b[0;34m(\u001b[0m\u001b[0;34m*\u001b[0m\u001b[0minput\u001b[0m\u001b[0;34m,\u001b[0m \u001b[0;34m**\u001b[0m\u001b[0mkwargs\u001b[0m\u001b[0;34m)\u001b[0m\u001b[0;34m\u001b[0m\u001b[0;34m\u001b[0m\u001b[0m\n\u001b[1;32m    888\u001b[0m         \u001b[0;32melse\u001b[0m\u001b[0;34m:\u001b[0m\u001b[0;34m\u001b[0m\u001b[0;34m\u001b[0m\u001b[0m\n\u001b[0;32m--> 889\u001b[0;31m             \u001b[0mresult\u001b[0m \u001b[0;34m=\u001b[0m \u001b[0mself\u001b[0m\u001b[0;34m.\u001b[0m\u001b[0mforward\u001b[0m\u001b[0;34m(\u001b[0m\u001b[0;34m*\u001b[0m\u001b[0minput\u001b[0m\u001b[0;34m,\u001b[0m \u001b[0;34m**\u001b[0m\u001b[0mkwargs\u001b[0m\u001b[0;34m)\u001b[0m\u001b[0;34m\u001b[0m\u001b[0;34m\u001b[0m\u001b[0m\n\u001b[0m\u001b[1;32m    890\u001b[0m         for hook in itertools.chain(\n\u001b[1;32m    891\u001b[0m                 \u001b[0m_global_forward_hooks\u001b[0m\u001b[0;34m.\u001b[0m\u001b[0mvalues\u001b[0m\u001b[0;34m(\u001b[0m\u001b[0;34m)\u001b[0m\u001b[0;34m,\u001b[0m\u001b[0;34m\u001b[0m\u001b[0;34m\u001b[0m\u001b[0m\n",
      "\u001b[0;32m<ipython-input-123-6789fc1ddd63>\u001b[0m in \u001b[0;36mforward\u001b[0;34m(self, x)\u001b[0m\n\u001b[1;32m     59\u001b[0m     \u001b[0;32mdef\u001b[0m \u001b[0mforward\u001b[0m\u001b[0;34m(\u001b[0m\u001b[0mself\u001b[0m\u001b[0;34m,\u001b[0m \u001b[0mx\u001b[0m\u001b[0;34m)\u001b[0m\u001b[0;34m:\u001b[0m\u001b[0;34m\u001b[0m\u001b[0;34m\u001b[0m\u001b[0m\n\u001b[1;32m     60\u001b[0m \u001b[0;34m\u001b[0m\u001b[0m\n\u001b[0;32m---> 61\u001b[0;31m         \u001b[0mprint\u001b[0m\u001b[0;34m(\u001b[0m\u001b[0;34m\"WEIGHT: \"\u001b[0m\u001b[0;34m,\u001b[0m \u001b[0mweight\u001b[0m\u001b[0;34m)\u001b[0m\u001b[0;34m\u001b[0m\u001b[0;34m\u001b[0m\u001b[0m\n\u001b[0m\u001b[1;32m     62\u001b[0m \u001b[0;34m\u001b[0m\u001b[0m\n\u001b[1;32m     63\u001b[0m         \u001b[0mcoords\u001b[0m \u001b[0;34m=\u001b[0m \u001b[0;34m[\u001b[0m\u001b[0;34m(\u001b[0m\u001b[0mlist\u001b[0m\u001b[0;34m(\u001b[0m\u001b[0mnp\u001b[0m\u001b[0;34m.\u001b[0m\u001b[0mrandom\u001b[0m\u001b[0;34m.\u001b[0m\u001b[0mrandint\u001b[0m\u001b[0;34m(\u001b[0m\u001b[0mlow\u001b[0m \u001b[0;34m=\u001b[0m \u001b[0;36m0\u001b[0m\u001b[0;34m,\u001b[0m \u001b[0mhigh\u001b[0m \u001b[0;34m=\u001b[0m \u001b[0mmath\u001b[0m\u001b[0;34m.\u001b[0m\u001b[0msqrt\u001b[0m\u001b[0;34m(\u001b[0m\u001b[0mlen\u001b[0m\u001b[0;34m(\u001b[0m\u001b[0mx\u001b[0m\u001b[0;34m)\u001b[0m\u001b[0;34m)\u001b[0m\u001b[0;34m,\u001b[0m \u001b[0msize\u001b[0m \u001b[0;34m=\u001b[0m \u001b[0;36m2\u001b[0m\u001b[0;34m)\u001b[0m\u001b[0;34m)\u001b[0m\u001b[0;34m)\u001b[0m \u001b[0;32mfor\u001b[0m \u001b[0mi\u001b[0m \u001b[0;32min\u001b[0m \u001b[0mrange\u001b[0m\u001b[0;34m(\u001b[0m\u001b[0;36m0\u001b[0m\u001b[0;34m,\u001b[0m \u001b[0mlen\u001b[0m\u001b[0;34m(\u001b[0m\u001b[0mx\u001b[0m\u001b[0;34m)\u001b[0m\u001b[0;34m)\u001b[0m\u001b[0;34m]\u001b[0m\u001b[0;34m\u001b[0m\u001b[0;34m\u001b[0m\u001b[0m\n",
      "\u001b[0;31mNameError\u001b[0m: name 'weight' is not defined"
     ]
    }
   ],
   "source": [
    "model = SocialSig()\n",
    "model(make_example_data(14))"
   ]
  },
  {
   "cell_type": "code",
   "execution_count": 125,
   "metadata": {},
   "outputs": [
    {
     "data": {
      "text/plain": [
       "[[213], [88], [240], [240]]"
      ]
     },
     "execution_count": 125,
     "metadata": {},
     "output_type": "execute_result"
    }
   ],
   "source": [
    "# THIS IS WHAT YOU WILL USE TO CREATE YOUR INPUT LAYER--THIS SHOULD BE A LIST WITH 81 ELEMENTS (THE ROW IN THE DF)\n",
    "def make_example_data(seed):\n",
    "    '''\n",
    "    Create the training dataset by randomly assigning coordiantes to the known data (i.e the data within a row)\n",
    "    '''\n",
    "    points = [[i] for i in list(np.random.randint(low = 0, high = 255, size = 4).flatten())]\n",
    "#         coords = [(list(np.random.randint(low = 0, high = n_rows, size = 2))) for i in range(0, num_known_points)]\n",
    "#     points = [[60], [48], [151], [52], [95], [135], [184], [199]]\n",
    "#     random.Random(seed).shuffle(points)\n",
    "#     coords = [[0, 2], [1, 0], [3, 1], [1, 0], [0, 3], [2, 0], [3, 0], [3, 2]]\n",
    "    return points\n",
    "\n",
    "\n",
    "make_example_data(14)"
   ]
  },
  {
   "cell_type": "code",
   "execution_count": 126,
   "metadata": {},
   "outputs": [],
   "source": [
    "# class SocialSig():\n",
    "    \n",
    "#     '''\n",
    "#     Class to create the social signature image\n",
    "#     '''\n",
    "    \n",
    "#     def __init__(self, num_known_points, n_rows, seed):\n",
    "#         '''\n",
    "#         Basic steps for class:\n",
    "#             1. Randomly initalize 'weights' which I believe are actually the coords of the points\n",
    "#             2. Train kriggin model to interpolate points in between\n",
    "#             3. Predict what the points would be within a 224x224 matrix and output the resulting matrix\n",
    "#         '''\n",
    "#         self.__points, self.__coords = self.__make_training_data(num_known_points, n_rows, seed)\n",
    "#         self.__krig = self.__train_krigging(self.__points, self.__coords)\n",
    "#         self.__blank_grid = self.__make_blank_coord_grid(n_rows)\n",
    "#         self.real_dataset = self.__make_real_data_set(self.__blank_grid, self.__points, self.__coords, self.__krig)\n",
    "        \n",
    "        \n",
    "#     def __make_training_data(self, num_known_points, n_rows, seed):\n",
    "#         '''\n",
    "#         Create the training dataset by randomly assigning coordiantes to the known data (i.e the data within a row)\n",
    "#         '''\n",
    "# #         points = [[i] for i in list(np.random.randint(low = 0, high = 255, size = num_known_points).flatten())]\n",
    "# #         coords = [(list(np.random.randint(low = 0, high = n_rows, size = 2))) for i in range(0, num_known_points)]\n",
    "#         points = [[60], [48], [151], [52], [95], [135], [184], [199]]\n",
    "#         random.Random(seed).shuffle(points)\n",
    "#         coords = [[0, 2], [1, 0], [3, 1], [1, 0], [0, 3], [2, 0], [3, 0], [3, 2]]\n",
    "#         return points, coords\n",
    "    \n",
    "    \n",
    "#     def __train_krigging(self, points, coords):\n",
    "#         '''\n",
    "#         Train the krigging model to predict all of the points that are between known points\n",
    "#         '''\n",
    "#         coordinates_train = ot.Sample(coords)\n",
    "#         data_train = ot.Sample(points) # At 2000/1/2\n",
    "#         inputDimension = 2\n",
    "#         basis = ot.ConstantBasisFactory(inputDimension).build()\n",
    "#         covarianceModel = ot.SquaredExponential([1.]*inputDimension, [1.0])\n",
    "#         algo = ot.KrigingAlgorithm(coordinates_train, data_train, covarianceModel, basis)\n",
    "#         algo.run()\n",
    "#         result = algo.getResult()\n",
    "#         krigingMetamodel = result.getMetaModel()\n",
    "#         return krigingMetamodel\n",
    "    \n",
    "    \n",
    "#     def __make_blank_coord_grid(self, n_rows):\n",
    "#         '''\n",
    "#         Make a blank coordinate grid to fill in with real data later\n",
    "#         '''\n",
    "#         return [[x,y] for x in range(0, 4) for y in range(0,4)]\n",
    "            \n",
    "\n",
    "#     def __make_real_data_set(self, blank_grid, points, coords, krigingMetamodel):\n",
    "#         '''\n",
    "#         Fill in the blank grid with real data.\n",
    "#         If the coordinate pair is in the list that has real data, give the coord real data.\n",
    "#         If not, krig it.\n",
    "#         '''\n",
    "        \n",
    "#         to_return = [(points[coords.index(i)][0]) if i in coords else list(krigingMetamodel(i))[0] for i in blank_grid]\n",
    "#         to_return = torch.from_numpy(np.reshape(np.array(to_return), (1,1,4,4)))\n",
    "#         to_return = torch.tensor(to_return, dtype=torch.float)\n",
    "\n",
    "#         return to_return\n",
    "        "
   ]
  },
  {
   "cell_type": "code",
   "execution_count": 183,
   "metadata": {},
   "outputs": [],
   "source": [
    "# class TwoLayerNet(torch.nn.Module):\n",
    "#     def __init__(self, D_in, H, D_out):\n",
    "#         \"\"\"\n",
    "#         In the constructor we instantiate two nn.Linear modules and assign them as\n",
    "#         member variables.\n",
    "#         \"\"\"\n",
    "#         super(TwoLayerNet, self).__init__()\n",
    "#         self.linear1 = torch.nn.Linear(D_in, H)\n",
    "#         self.linear2 = torch.nn.Linear(H, D_out)\n",
    "\n",
    "#     def forward(self, x):\n",
    "#         \"\"\"\n",
    "#         In the forward function we accept a Tensor of input data and we must return\n",
    "#         a Tensor of output data. We can use Modules defined in the constructor as\n",
    "#         well as arbitrary operators on Tensors.\n",
    "#         \"\"\"\n",
    "#         h_relu = self.linear1(x).clamp(min=0)\n",
    "#         y_pred = self.linear2(h_relu)\n",
    "#         return y_pred\n",
    "\n",
    "\n",
    "class MakeCoords(nn.Module):\n",
    "    def __init__(self):\n",
    "        super(MakeCoords, self).__init__()\n",
    "        # self.weight = torch.nn.Parameter(data=torch.Tensor(1, 1, 1, 1), requires_grad=True)\n",
    "#         self.weight = torch.nn.Parameter(torch.randn(()))\n",
    "        \n",
    "#         self.weight.data.uniform_(-1, 1)\n",
    "\n",
    "        self.x1 = torch.nn.Parameter(torch.tensor(random.randint(0,10), dtype = torch.float32)) \n",
    "        self.y1 = torch.nn.Parameter(torch.tensor(random.randint(0,10), dtype = torch.float32)) \n",
    "        \n",
    "        self.x2 = torch.nn.Parameter(torch.tensor(random.randint(0,10), dtype = torch.float32)) \n",
    "        self.y2 = torch.nn.Parameter(torch.tensor(random.randint(0,10), dtype = torch.float32)) \n",
    "        \n",
    "        self.x3 = torch.nn.Parameter(torch.tensor(random.randint(0,10), dtype = torch.float32)) \n",
    "        self.y3 = torch.nn.Parameter(torch.tensor(random.randint(0,10), dtype = torch.float32)) \n",
    "        \n",
    "        self.x4 = torch.nn.Parameter(torch.tensor(random.randint(0,10), dtype = torch.float32)) \n",
    "        self.y4 = torch.nn.Parameter(torch.tensor(random.randint(0,10), dtype = torch.float32))   \n",
    "        \n",
    "        self.x5 = torch.nn.Parameter(torch.tensor(random.randint(0,10), dtype = torch.float32)) \n",
    "        self.y5 = torch.nn.Parameter(torch.tensor(random.randint(0,10), dtype = torch.float32)) \n",
    "        \n",
    "        self.x6 = torch.nn.Parameter(torch.tensor(random.randint(0,10), dtype = torch.float32)) \n",
    "        self.y6 = torch.nn.Parameter(torch.tensor(random.randint(0,10), dtype = torch.float32)) \n",
    "        \n",
    "        self.x7 = torch.nn.Parameter(torch.tensor(random.randint(0,10), dtype = torch.float32)) \n",
    "        self.y7 = torch.nn.Parameter(torch.tensor(random.randint(0,10), dtype = torch.float32)) \n",
    "        \n",
    "        self.x8 = torch.nn.Parameter(torch.tensor(random.randint(0,10), dtype = torch.float32)) \n",
    "        self.y8 = torch.nn.Parameter(torch.tensor(random.randint(0,10), dtype = torch.float32))          \n",
    "    \n",
    "    def forward(self, x):\n",
    "        \n",
    "        \n",
    "        \n",
    "        coords = torch.tensor([[1*self.x1, 1*self.y1], [1*self.x2, 1*self.y2], [1*self.x3, 1*self.y3], \\\n",
    "                  [1*self.x4, 1*self.y4], [1*self.x5, 1*self.y5], [1*self.x6, 1*self.y6], \\\n",
    "                  [1*self.x7, 1*self.y7], [1*self.x8, 1*self.y8]])\n",
    "                \n",
    "#         print(\"WEIGHT: \", self.weight)\n",
    "        \n",
    "#         coords = [(list(np.random.randint(low = 0, high = math.sqrt(len(x)), size = 2))) for i in range(0, len(x))]        \n",
    "# #         self.process(x, coords, self.weight)\n",
    "        return coords\n",
    "\n",
    "\n",
    "\n",
    "\n",
    "\n",
    "class TwoLayerNet(torch.nn.Module):\n",
    "    def __init__(self):\n",
    "        \"\"\"\n",
    "        In the constructor we instantiate two nn.Linear modules and assign them as\n",
    "        member variables.\n",
    "        \"\"\"\n",
    "        super(TwoLayerNet, self).__init__()\n",
    "        self.SocialSig = SocialSig()\n",
    "        self.conv1 = nn.Conv2d(1, 4, 4, 1)\n",
    "        self.linear1 = torch.nn.Linear(4, 1)\n",
    "        self.linear2 = torch.nn.Linear(2, 1)\n",
    "\n",
    "    def forward(self, x):\n",
    "        \"\"\"\n",
    "        In the forward function we accept a Tensor of input data and we must return\n",
    "        a Tensor of output data. We can use Modules defined in the constructor as\n",
    "        well as arbitrary operators on Tensors.\n",
    "        \"\"\"\n",
    "        coords = MakeCoords(x)\n",
    "        sig = self.SocialSig(x, coords)\n",
    "#         print(sig)\n",
    "        sig = self.conv1(sig)\n",
    "        sig = torch.flatten(sig, 1)\n",
    "        sig = self.linear1(sig)#.clamp(min=0)\n",
    "#         y_pred = self.linear2(sig)\n",
    "        return sig"
   ]
  },
  {
   "cell_type": "code",
   "execution_count": 184,
   "metadata": {},
   "outputs": [
    {
     "data": {
      "text/plain": [
       "tensor([[ 7.,  8.],\n",
       "        [10.,  7.],\n",
       "        [ 0.,  8.],\n",
       "        [ 4., 10.],\n",
       "        [10.,  6.],\n",
       "        [ 9.,  4.],\n",
       "        [ 8.,  7.],\n",
       "        [10.,  0.]])"
      ]
     },
     "execution_count": 184,
     "metadata": {},
     "output_type": "execute_result"
    }
   ],
   "source": [
    "model = MakeCoords()\n",
    "model(1)"
   ]
  },
  {
   "cell_type": "code",
   "execution_count": 158,
   "metadata": {},
   "outputs": [
    {
     "data": {
      "text/plain": [
       "Parameter containing:\n",
       "tensor(-1.7541, requires_grad=True)"
      ]
     },
     "execution_count": 158,
     "metadata": {},
     "output_type": "execute_result"
    }
   ],
   "source": [
    "torch.nn.Parameter(torch.randn(())) "
   ]
  },
  {
   "cell_type": "code",
   "execution_count": 161,
   "metadata": {},
   "outputs": [
    {
     "data": {
      "text/plain": [
       "Parameter containing:\n",
       "tensor(10., requires_grad=True)"
      ]
     },
     "execution_count": 161,
     "metadata": {},
     "output_type": "execute_result"
    }
   ],
   "source": [
    "torch.nn.Parameter(torch.tensor(random.randint(0,10), dtype = torch.float32)) "
   ]
  },
  {
   "cell_type": "code",
   "execution_count": 152,
   "metadata": {},
   "outputs": [],
   "source": [
    "# # N is batch size; D_in is input dimension;\n",
    "# # H is hidden dimension; D_out is output dimension.\n",
    "# N, D_in, H, D_out = 64, 1000, 100, 1\n",
    "\n",
    "# # Create random Tensors to hold inputs and outputs\n",
    "# x = torch.randn(N, D_in)\n",
    "# y = torch.randn(N, D_out)"
   ]
  },
  {
   "cell_type": "code",
   "execution_count": 153,
   "metadata": {},
   "outputs": [],
   "source": [
    "# x.shape"
   ]
  },
  {
   "cell_type": "code",
   "execution_count": 154,
   "metadata": {},
   "outputs": [],
   "source": [
    "# y.shape"
   ]
  },
  {
   "cell_type": "code",
   "execution_count": 185,
   "metadata": {},
   "outputs": [
    {
     "ename": "TypeError",
     "evalue": "__init__() missing 1 required positional argument: 'coords'",
     "output_type": "error",
     "traceback": [
      "\u001b[0;31m---------------------------------------------------------------------------\u001b[0m",
      "\u001b[0;31mTypeError\u001b[0m                                 Traceback (most recent call last)",
      "\u001b[0;32m<ipython-input-185-06865e778d11>\u001b[0m in \u001b[0;36m<module>\u001b[0;34m\u001b[0m\n\u001b[1;32m      1\u001b[0m \u001b[0;31m# Construct our model by instantiating the class defined above\u001b[0m\u001b[0;34m\u001b[0m\u001b[0;34m\u001b[0m\u001b[0;34m\u001b[0m\u001b[0m\n\u001b[0;32m----> 2\u001b[0;31m \u001b[0mmodel\u001b[0m \u001b[0;34m=\u001b[0m \u001b[0mTwoLayerNet\u001b[0m\u001b[0;34m(\u001b[0m\u001b[0;34m)\u001b[0m\u001b[0;34m\u001b[0m\u001b[0;34m\u001b[0m\u001b[0m\n\u001b[0m",
      "\u001b[0;32m<ipython-input-183-06ba9a19458b>\u001b[0m in \u001b[0;36m__init__\u001b[0;34m(self)\u001b[0m\n\u001b[1;32m     77\u001b[0m         \"\"\"\n\u001b[1;32m     78\u001b[0m         \u001b[0msuper\u001b[0m\u001b[0;34m(\u001b[0m\u001b[0mTwoLayerNet\u001b[0m\u001b[0;34m,\u001b[0m \u001b[0mself\u001b[0m\u001b[0;34m)\u001b[0m\u001b[0;34m.\u001b[0m\u001b[0m__init__\u001b[0m\u001b[0;34m(\u001b[0m\u001b[0;34m)\u001b[0m\u001b[0;34m\u001b[0m\u001b[0;34m\u001b[0m\u001b[0m\n\u001b[0;32m---> 79\u001b[0;31m         \u001b[0mself\u001b[0m\u001b[0;34m.\u001b[0m\u001b[0mSocialSig\u001b[0m \u001b[0;34m=\u001b[0m \u001b[0mSocialSig\u001b[0m\u001b[0;34m(\u001b[0m\u001b[0;34m)\u001b[0m\u001b[0;34m\u001b[0m\u001b[0;34m\u001b[0m\u001b[0m\n\u001b[0m\u001b[1;32m     80\u001b[0m         \u001b[0mself\u001b[0m\u001b[0;34m.\u001b[0m\u001b[0mconv1\u001b[0m \u001b[0;34m=\u001b[0m \u001b[0mnn\u001b[0m\u001b[0;34m.\u001b[0m\u001b[0mConv2d\u001b[0m\u001b[0;34m(\u001b[0m\u001b[0;36m1\u001b[0m\u001b[0;34m,\u001b[0m \u001b[0;36m4\u001b[0m\u001b[0;34m,\u001b[0m \u001b[0;36m4\u001b[0m\u001b[0;34m,\u001b[0m \u001b[0;36m1\u001b[0m\u001b[0;34m)\u001b[0m\u001b[0;34m\u001b[0m\u001b[0;34m\u001b[0m\u001b[0m\n\u001b[1;32m     81\u001b[0m         \u001b[0mself\u001b[0m\u001b[0;34m.\u001b[0m\u001b[0mlinear1\u001b[0m \u001b[0;34m=\u001b[0m \u001b[0mtorch\u001b[0m\u001b[0;34m.\u001b[0m\u001b[0mnn\u001b[0m\u001b[0;34m.\u001b[0m\u001b[0mLinear\u001b[0m\u001b[0;34m(\u001b[0m\u001b[0;36m4\u001b[0m\u001b[0;34m,\u001b[0m \u001b[0;36m1\u001b[0m\u001b[0;34m)\u001b[0m\u001b[0;34m\u001b[0m\u001b[0;34m\u001b[0m\u001b[0m\n",
      "\u001b[0;31mTypeError\u001b[0m: __init__() missing 1 required positional argument: 'coords'"
     ]
    }
   ],
   "source": [
    "# Construct our model by instantiating the class defined above\n",
    "model = TwoLayerNet()"
   ]
  },
  {
   "cell_type": "code",
   "execution_count": 156,
   "metadata": {},
   "outputs": [],
   "source": [
    "# model()"
   ]
  },
  {
   "cell_type": "code",
   "execution_count": 157,
   "metadata": {},
   "outputs": [
    {
     "name": "stdout",
     "output_type": "stream",
     "text": [
      "[[183], [203], [142], [132]]\n",
      "WEIGHT:  Parameter containing:\n",
      "tensor(0.5752, requires_grad=True)\n",
      "PRED:  tensor([[-4.4638]], grad_fn=<AddmmBackward>)\n",
      "\n",
      "\n",
      "[[132], [203], [183], [142]]\n",
      "WEIGHT:  Parameter containing:\n",
      "tensor(0.1163, requires_grad=True)\n",
      "PRED:  tensor([[208.2670]], grad_fn=<AddmmBackward>)\n",
      "\n",
      "\n",
      "[[142], [203], [132], [183]]\n",
      "WEIGHT:  Parameter containing:\n",
      "tensor(-4764.9541, requires_grad=True)\n",
      "PRED:  tensor([[-2.9707e+11]], grad_fn=<AddmmBackward>)\n",
      "\n",
      "\n",
      "[[183], [203], [142], [132]]\n",
      "WEIGHT:  Parameter containing:\n",
      "tensor(2.3707e+17, requires_grad=True)\n",
      "PRED:  tensor([[nan]], grad_fn=<AddmmBackward>)\n",
      "\n",
      "\n",
      "[[132], [203], [183], [142]]\n",
      "WEIGHT:  Parameter containing:\n",
      "tensor(nan, requires_grad=True)\n",
      "PRED:  tensor([[nan]], grad_fn=<AddmmBackward>)\n",
      "\n",
      "\n"
     ]
    },
    {
     "name": "stderr",
     "output_type": "stream",
     "text": [
      "/Users/heatherbaier/anaconda/envs/caoe/lib/python3.6/site-packages/ipykernel_launcher.py:45: UserWarning: To copy construct from a tensor, it is recommended to use sourceTensor.clone().detach() or sourceTensor.clone().detach().requires_grad_(True), rather than torch.tensor(sourceTensor).\n"
     ]
    }
   ],
   "source": [
    "x = make_example_data(14)\n",
    "\n",
    "criterion = torch.nn.MSELoss(reduction='sum')\n",
    "optimizer = torch.optim.SGD(model.parameters(), lr=1e-4)\n",
    "for t in range(5):\n",
    "    # Forward pass: Compute predicted y by passing x to the model\n",
    "    print(x)\n",
    "    y_pred = model(x)\n",
    "    \n",
    "    print(\"PRED: \", y_pred)\n",
    "\n",
    "    # Compute and print loss\n",
    "    loss = criterion(y_pred, y)\n",
    "    if t % 100 == 99:\n",
    "        print(t, loss.item())\n",
    "\n",
    "    # Zero gradients, perform a backward pass, and update the weights.\n",
    "    optimizer.zero_grad()\n",
    "    loss.backward()\n",
    "    optimizer.step()\n",
    "    \n",
    "    print(\"\\n\")"
   ]
  },
  {
   "cell_type": "code",
   "execution_count": 103,
   "metadata": {},
   "outputs": [],
   "source": [
    "# Construct our loss function and an Optimizer. The call to model.parameters()\n",
    "# in the SGD constructor will contain the learnable parameters of the two\n",
    "# nn.Linear modules which are members of the model.\n"
   ]
  },
  {
   "cell_type": "code",
   "execution_count": null,
   "metadata": {},
   "outputs": [],
   "source": [
    "'''\n",
    "Make a layer that has a x trainabale params as the coordinates\n",
    "    -- THIS LAYER NEEDS TO HAVE A FORWARD PASS\n",
    "    (https://discuss.pytorch.org/t/pytorch-equivalent-of-keras/29412)\n",
    "'''\n",
    " "
   ]
  }
 ],
 "metadata": {
  "kernelspec": {
   "display_name": "caoe",
   "language": "python",
   "name": "caoe"
  },
  "language_info": {
   "codemirror_mode": {
    "name": "ipython",
    "version": 3
   },
   "file_extension": ".py",
   "mimetype": "text/x-python",
   "name": "python",
   "nbconvert_exporter": "python",
   "pygments_lexer": "ipython3",
   "version": "3.6.12"
  }
 },
 "nbformat": 4,
 "nbformat_minor": 2
}
